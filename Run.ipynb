{
 "cells": [
  {
   "cell_type": "code",
   "execution_count": 45,
   "id": "66f7b81c",
   "metadata": {},
   "outputs": [],
   "source": [
    "from utils.news import get_news, get_url_content\n",
    "from utils.price import get_price\n",
    "from utils.llms import summarize, get_trading_recommendation\n",
    "import pandas as pd\n",
    "from tqdm import tqdm"
   ]
  },
  {
   "cell_type": "code",
   "execution_count": 56,
   "id": "40b9791e",
   "metadata": {},
   "outputs": [],
   "source": [
    "from langchain.prompts import PromptTemplate\n",
    "from langchain.chains import LLMChain\n",
    "from langchain_community.llms import Ollama\n",
    "\n",
    "def generate_summary(stock, title, content):\n",
    "\n",
    "    llm = Ollama(model=\"llama3\")\n",
    "\n",
    "    summary_template = \"\"\"\n",
    "    You are an AI assistant specialized in investment advisory. \n",
    "    Provide a concise summary of the news article focusing only on the specified stock, interpret the investment sentiment, and give a score between -1 to 1 (where -1 indicates 'sell' and 1 indicates 'buy'):\n",
    "\n",
    "    Stock: {stock}\n",
    "\n",
    "    Title: {title}\n",
    "\n",
    "    Content: {content}\n",
    "\n",
    "    Summary:\n",
    "    Sentiment Score: \n",
    "    \"\"\"\n",
    "\n",
    "\n",
    "    summary_prompt = PromptTemplate(template=summary_template, input_variables=[\"stock\", \"title\", \"content\"])\n",
    "\n",
    "    # Create the chain\n",
    "    chain = LLMChain(llm=llm, prompt=summary_prompt)\n",
    "\n",
    "    # Run the chain to get the summary\n",
    "    summary = chain.run(stock = stock, title=title, content=content)\n",
    "    \n",
    "    return summary"
   ]
  },
  {
   "cell_type": "code",
   "execution_count": 87,
   "id": "25192137",
   "metadata": {},
   "outputs": [],
   "source": [
    "def generate_stock_price_impact(stock, title, content):\n",
    "\n",
    "    llm = Ollama(model=\"llama3\")\n",
    "\n",
    "    stock_price_impact_template = \"\"\"\n",
    "    You are an AI assistant specialized in investment advisory. \n",
    "    Provide a concise summary of the news article focusing only on the specified stock, interpret the expected immediate impact of this news on the stock price as a score between -1 and 1 (where -1 indicates a negative impact and 1 indicates a positive impact):\n",
    "\n",
    "    Stock: {stock}\n",
    "\n",
    "    Title: {title}\n",
    "\n",
    "    Content: {content}\n",
    "    Summary:\n",
    "    Impact Score:\n",
    "    \"\"\"\n",
    "\n",
    "    stock_price_impact_prompt = PromptTemplate(template=stock_price_impact_template, input_variables=[\"stock\", \"title\", \"content\"])\n",
    "\n",
    "    # Create the chain\n",
    "    chain = LLMChain(llm=llm, prompt=stock_price_impact_prompt)\n",
    "\n",
    "    # Run the chain to get the impact score on stock price\n",
    "    impact_score = chain.run(stock=stock, title=title, content=content)\n",
    "    \n",
    "    return impact_score"
   ]
  },
  {
   "cell_type": "code",
   "execution_count": 66,
   "id": "f9450abf",
   "metadata": {},
   "outputs": [],
   "source": [
    "def generate_sentiment_score(stock, title, content):\n",
    "\n",
    "    llm = Ollama(model=\"llama3\")\n",
    "\n",
    "    sentiment_score_template = \"\"\"\n",
    "    You are an AI assistant specialized in investment advisory. \n",
    "    Analyze the news article focusing only on the specified stock and provide only the sentiment score between -1 to 1 (where -1 indicates 'sell' and 1 indicates 'buy'):\n",
    "\n",
    "    Stock: {stock}\n",
    "\n",
    "    Title: {title}\n",
    "\n",
    "    Content: {content}\n",
    "\n",
    "    Sentiment Score:\n",
    "    \"\"\"\n",
    "\n",
    "    sentiment_score_prompt = PromptTemplate(template=sentiment_score_template, input_variables=[\"stock\", \"title\", \"content\"])\n",
    "\n",
    "    # Create the chain\n",
    "    chain = LLMChain(llm=llm, prompt=sentiment_score_prompt)\n",
    "\n",
    "    # Run the chain to get the sentiment score\n",
    "    sentiment_score = chain.run(stock=stock, title=title, content=content)\n",
    "    \n",
    "    return sentiment_score"
   ]
  },
  {
   "cell_type": "code",
   "execution_count": 57,
   "id": "22401863",
   "metadata": {},
   "outputs": [],
   "source": [
    "topic = news_df.topic.values[0]\n",
    "content = news_df.content.values[0]"
   ]
  },
  {
   "cell_type": "code",
   "execution_count": 89,
   "id": "73acef05",
   "metadata": {},
   "outputs": [],
   "source": [
    "impact = generate_stock_price_impact(stock, topic, content)"
   ]
  },
  {
   "cell_type": "code",
   "execution_count": 90,
   "id": "23ca0dee",
   "metadata": {},
   "outputs": [
    {
     "name": "stdout",
     "output_type": "stream",
     "text": [
      "Summary: The article discusses Nvidia's performance in early 2024, highlighting a significant 96% bull rally followed by a 13% dip. The company is currently in a consolidation phase, with its stock price oscillating between $756 and $974. Analysts expect the first-quarter earnings report on May 22 to be positive, with forecasts of $5.18 per share.\n",
      "\n",
      "Impact Score: +0.7\n",
      "\n",
      "The expected immediate impact of this news on Nvidia's stock price is neutral-positive. The article highlights the company's solid performance in early 2024 and analysts' optimistic forecast for its first-quarter earnings report. However, the consolidation phase and the potential for a dip below $756 if the earnings report does not meet expectations temper the enthusiasm. Overall, the news suggests that Nvidia is poised for growth, but investors should be cautious and monitor key support and resistance levels closely.\n"
     ]
    }
   ],
   "source": [
    "print(impact)"
   ]
  },
  {
   "cell_type": "code",
   "execution_count": 95,
   "id": "0734d9b7",
   "metadata": {},
   "outputs": [],
   "source": [
    "pattern = r\"Impact Score: ([+-]?\\d+(\\.\\d+)?)\""
   ]
  },
  {
   "cell_type": "code",
   "execution_count": 96,
   "id": "6ecb4ac1",
   "metadata": {},
   "outputs": [],
   "source": [
    "import re\n",
    "match = re.search(pattern, impact)"
   ]
  },
  {
   "cell_type": "code",
   "execution_count": 97,
   "id": "e28af224",
   "metadata": {},
   "outputs": [],
   "source": [
    "if match:\n",
    "    impact = float(match.group(1))"
   ]
  },
  {
   "cell_type": "code",
   "execution_count": 98,
   "id": "c0c11710",
   "metadata": {},
   "outputs": [
    {
     "data": {
      "text/plain": [
       "0.7"
      ]
     },
     "execution_count": 98,
     "metadata": {},
     "output_type": "execute_result"
    }
   ],
   "source": [
    "impact"
   ]
  },
  {
   "cell_type": "code",
   "execution_count": 2,
   "id": "cd33775c",
   "metadata": {},
   "outputs": [],
   "source": [
    "stock = \"Nvidia\"\n",
    "symbol = \"NVDA\"  \n",
    "date = \"2024-05-02\"\n",
    "news_duration = 1\n",
    "price_duration = 7\n",
    "sector_info='''Nvidia operates in the semiconductor industry, specializing in the design and manufacture of graphics processing units (GPUs) for gaming, professional visualization, data centers, AI, and automotive applications. \n",
    "Known for its GeForce brand, Nvidia leads the gaming market while also providing high-performance solutions for AI and machine learning in data centers. \n",
    "Additionally, Nvidia's DRIVE platform supports autonomous vehicle technology, and its Jetson platform powers edge computing and IoT devices. \n",
    "The company's innovations position it at the forefront of emerging trends in AI, data processing, and autonomous driving, driving significant growth and industry influence.\n",
    "'''"
   ]
  },
  {
   "cell_type": "code",
   "execution_count": 4,
   "id": "0de1fbe7",
   "metadata": {},
   "outputs": [],
   "source": [
    "news_df = get_news(symbol, date, news_duration)"
   ]
  },
  {
   "cell_type": "code",
   "execution_count": 9,
   "id": "ba382a6a",
   "metadata": {},
   "outputs": [],
   "source": [
    "headlines = news_df.headline.values.tolist()"
   ]
  },
  {
   "cell_type": "code",
   "execution_count": 38,
   "id": "06f60ebb",
   "metadata": {},
   "outputs": [],
   "source": [
    "topic_list=[]\n",
    "content_list=[]\n",
    "for url in tqdm(news_df['url'].values.tolist()):\n",
    "    topic, content = get_url_content(url)    \n",
    "    topic_list.append(topic)\n",
    "    content_list.append(content)    "
   ]
  },
  {
   "cell_type": "code",
   "execution_count": 40,
   "id": "94557888",
   "metadata": {},
   "outputs": [],
   "source": [
    "news_df['topic'] = topic_list\n",
    "news_df['content'] = content_list"
   ]
  },
  {
   "cell_type": "code",
   "execution_count": null,
   "id": "45ca576f",
   "metadata": {},
   "outputs": [],
   "source": [
    "impact_summary_list=[]\n",
    "for i in tqdm(range(len(news_df))):\n",
    "    topic = news_df.topic.values[i]\n",
    "    content = news_df.content.values[i]\n",
    "    summary = summarize(stock, topic, content)\n",
    "    summary_list.append(summary)"
   ]
  },
  {
   "cell_type": "code",
   "execution_count": 47,
   "id": "8ecbdac1",
   "metadata": {},
   "outputs": [
    {
     "name": "stderr",
     "output_type": "stream",
     "text": [
      "100%|███████████████████████████████████████████| 13/13 [03:01<00:00, 13.94s/it]\n"
     ]
    }
   ],
   "source": [
    "summary_list=[]\n",
    "for i in tqdm(range(len(news_df))):\n",
    "    topic = news_df.topic.values[i]\n",
    "    content = news_df.content.values[i]\n",
    "    summary = summarize(stock, topic, content)\n",
    "    summary_list.append(summary)"
   ]
  },
  {
   "cell_type": "code",
   "execution_count": 48,
   "id": "7f490c03",
   "metadata": {},
   "outputs": [],
   "source": [
    "news_df['summary'] = summary_list"
   ]
  },
  {
   "cell_type": "code",
   "execution_count": 49,
   "id": "cdc05ebf",
   "metadata": {},
   "outputs": [
    {
     "data": {
      "text/plain": [
       "array([\"Summary:\\n\\nNvidia's stock has experienced a rollercoaster ride in early 2024, with a 96% bull rally followed by a 13% dip. The company is currently in a consolidation phase, oscillating between $756 and $974. Analysts are forecasting earnings of $5.18 per share for the first quarter, which could impact the stock's performance.\\n\\nInterpretation:\\n\\nThe investment sentiment surrounding Nvidia (NVDA) appears to be cautious but optimistic. The recent consolidation phase suggests that investors are taking a wait-and-see approach, waiting for the company's upcoming first-quarter earnings report on May 22. A positive earnings report could push the stock back above its previous highs, while a negative report or disappointing results might lead to a downturn below $756.\\n\\nKey takeaways:\\n\\n1. Nvidia's stock is currently in a consolidation phase, reflecting investor uncertainty.\\n2. The company's upcoming first-quarter earnings report on May 22 will be crucial for determining the next direction of the stock.\\n3. A positive earnings report could spark a new bullish phase, while disappointing results might lead to a downturn.\\n\\nInvestment strategy:\\n\\n1. Be patient and monitor key support and resistance levels (e.g., $756 and $974).\\n2. Consider waiting for the first-quarter earnings report before making any investment decisions.\\n3. Keep an eye on analyst forecasts and market reactions to gauge sentiment and potential outcomes.\",\n",
       "       \"The article discusses Super Micro Computer (SMCI) and its relationship with Nvidia Corp (NVDA). The analysts mentioned in the article are:\\n\\n* Wedbush's Matt Bryson: Maintained a Neutral rating, raised price target from $530 to $800. Believes SMCI's sales momentum will continue, but competition may impact profit.\\n* BofA Securities' Ruplu Bhattacharya: Reiterated a Buy rating, price target of $1,090. Sees strong demand for SMCI's products and expects the company to exceed consensus forecasts.\\n* Goldman Sachs' Michael Ng: Reiterated a Neutral rating, price target of $800. Believes there is increasing uncertainty around SMCI's AI server market share.\\n* JP Morgan's Samik Chatterjee: Reiterated an Overweight rating, price target of $1,150. Believes investors are concerned about gross margins and potential capital raises.\\n\\nThe article does not specifically discuss Nvidia (NVDA) except to mention that Nvidia is shifting its offerings to H200 and Blackwell, which may impact SMCI's sales momentum.\\n\\nInterpretation of investment sentiment:\\n\\n* Neutral/Buy ratings from multiple analysts suggest a mixed view on Super Micro Computer.\\n* The positive outlooks from Bhattacharya and Chatterjee are tempered by concerns about gross margins and potential capital raises, as expressed by Bryson and Ng.\\n* The price action of SMCI shares suggests that investors may be cautious, with the stock down 11.8% at last check.\\n\\nOverall, the sentiment is cautiously optimistic, with some analysts seeing strong demand for SMCI's products and others expressing concerns about competition and potential capital raises.\",\n",
       "       'Summary:\\n\\nThe article discusses Intel\\'s (INTC) potential turnaround and long-term growth prospects, which are attracting attention from Reddit\\'s ValueInvesting community. Despite recent setbacks, investors are intrigued by Intel\\'s market capitalization, which is seen as undervalued compared to its competitors like Advanced Micro Devices Inc (AMD), Nvidia Corp (NVDA), Taiwan Semiconductor Manufacturing Co Ltd (TSM), and Samsung. The article highlights Intel\\'s focus on research and development (R&D) and its potential to lead the chip industry in the coming years.\\n\\nInterpretation of Investment Sentiment:\\n\\nThe investment sentiment for Nvidia is neutral, as the article focuses more on Intel\\'s prospects rather than Nvidia\\'s performance. However, we can infer that investors are cautious about Nvidia\\'s recent decline and may be seeking alternative opportunities like Intel, which is perceived as having a lower risk profile.\\n\\nOverall, the investment sentiment for Intel is bullish, with many Reddit investors viewing it as a \"high-potential, low-risk\" investment opportunity. The article highlights Intel\\'s favorable market capitalization, its focus on R&D, and its potential to lead the chip industry in the coming years, which suggests that investors are optimistic about the company\\'s future prospects.',\n",
       "       \"Here's a summary of the news article regarding Nvidia:\\n\\nCoreWeave, an AI-focused cloud-computing firm backed by Nvidia (NVDA), has secured $1.1 billion in new funding, valuing the company at $19 billion. The funding will be used to support growth and expansion into new geographic regions.\\n\\nAs CoreWeave is a key partner of Nvidia, this news may have a positive impact on NVDA's stock performance.\\n\\nInterpretation:\\n\\nThe investment sentiment for Nvidia (NVDA) appears to be neutral-to-positive due to the following reasons:\\n\\n1. CoreWeave's significant funding round demonstrates strong demand for AI computation, which could benefit Nvidia as its partner and investor.\\n2. The growth of CoreWeave's business may lead to increased demand for Nvidia's AI-related products and services, potentially driving up NVDA's stock price.\\n3. The fact that CoreWeave is expanding its data center presence and quadrupling its employee headcount suggests a strong growth trajectory, which could positively impact NVDA's stock performance.\\n\\nHowever, it's essential to note that the author of the article is neutral, as they provide both positive and negative news (Nvidia's stock price is trading lower by 4.34% at $826.48).\",\n",
       "       \"The article highlights unusual options activity in the market, specifically focusing on 10 Information Technology (IT) stocks, including Nvidia (NVDA). The notable event for NVDA is a put option sweep with bullish sentiment, expiring in 2 days on May 3, 2024. This event involved a transfer of 561 contracts at a $800.00 strike price, with a total cost received by the writing party of $387.1K.\\n\\n**Interpretation:**\\nThe unusual options activity in NVDA suggests that some market participants are positioning themselves for a potential bullish move in the stock's price over the next few days. The fact that this activity is happening so close to the expiration date implies that these traders may be looking to capitalize on any short-term volatility or momentum shifts.\\n\\nIn general, high-volume trading around option strikes can indicate increased market interest and potential price movements. However, it's essential to note that options activity alone does not necessarily predict future stock performance.\\n\\nAs an AI investment advisor, I would recommend monitoring NVDA's price action closely over the next few days, paying attention to any potential catalysts or events that could influence its movement. It may also be useful to consider other market and economic factors, as well as the company's fundamental performance, before making any investment decisions.\",\n",
       "       'According to the article, Nvidia\\'s stock price has decreased by over 5% in response to Advanced Micro Devices\\' (AMD) disappointing earnings report. This decline is considered \"sympathetic\" as it reflects the broader sentiment in the chipmaking industry.\\n\\nInterpretation of Investment Sentiment:\\n\\n* The overall market sentiment is cautious ahead of the Federal Reserve\\'s decision on interest rates and balance sheet runoff.\\n* Chipmakers, including Nvidia, are experiencing a sell-off due to AMD\\'s weaker-than-expected earnings guidance. This suggests that investors may be worried about the potential impact of economic uncertainty on the technology sector.\\n* The decline in Bitcoin\\'s price also contributes to the overall negative sentiment in the market.\\n\\nOverall, the investment sentiment for Nvidia is bearish, reflecting concerns about the company\\'s performance and the broader industry outlook.',\n",
       "       \"**Summary:**\\n\\nThe article discusses Advanced Micro Devices' (AMD) Q1 earnings report and updated guidance, focusing on the reaction from Wall Street analysts. The analysts are mixed in their opinions, with some expressing concerns about AMD's gaming segment weakness and supply constraints. However, most analysts remain positive about AMD's artificial intelligence (AI) segment, citing strong demand and growth potential.\\n\\n**Nvidia (NVDA) is not mentioned directly as a competitor in the article, but it is referenced as a key player in the AI market, with AMD positioned as its main alternative.**\\n\\n**Investment Sentiment:**\\n\\nThe overall sentiment towards AMD's stock seems to be neutral to slightly bearish, despite the company's strong Q1 earnings and guidance. The analysts' mixed reactions and concerns about supply constraints, gaming segment weakness, and competition from Nvidia may have contributed to this sentiment.\\n\\nHowever, some analysts remain optimistic about AMD's AI segment growth potential, which could potentially drive the stock higher in the long term. The current price action, with shares down 9.14% on the day of the report, suggests that investors are taking a cautious approach and waiting for further developments before making a move.\\n\\nAs an investment advisor, I would recommend monitoring AMD's progress in its AI segment, as well as its competition with Nvidia, to gauge the potential impact on its stock price. Additionally, it may be wise to consider other factors, such as broader market trends and sector-specific news, when making investment decisions.\",\n",
       "       \"Here is a summary of the news article regarding Nvidia:\\n\\nThe article doesn't specifically mention Nvidia's performance or any significant updates related to the company. The main focus is on Alibaba Group Holding Limited (BABA) and its plans to build a data center in Vietnam to comply with local data storage regulations.\\n\\nInterpretation of Investment Sentiment:\\n\\nAs of the last check on Wednesday, Nvidia's stock price is not mentioned in the article. However, given that the overall market sentiment is neutral to slightly positive due to Alibaba's announcement, it's possible that investors may take a more optimistic view of technology stocks like Nvidia, which has a strong presence in Vietnam and is also expanding its AI development capabilities with local tech firms.\\n\\nInvestors may see this as a potential positive catalyst for Nvidia's growth, especially considering the company's diversification efforts to reduce dependence on China. However, it's essential to note that this article does not provide direct insights into Nvidia's performance or future prospects.\",\n",
       "       'Summary:\\n\\nThe article discusses Super Micro Computer (SMCI) and its comparison to Nvidia (NVDA). The author argues that SMCI is overvalued due to a lack of knowledge among investors, while NVDA has a strong moat protecting its business. The article also highlights the volatility of SMCI\\'s stock price and notes that it is heavily dependent on availability of NVDA chips.\\n\\nThe main point made about Nvidia (NVDA) in this article is that it has a large \"moat\" to protect its business, which includes intellectual property for its Graphics Processing Units (GPUs). This means that competitors have a high barrier to entry and are unlikely to be able to compete effectively with NVDA.\\n\\nInterpretation:\\n\\nThe sentiment expressed towards Nvidia (NVDA) in this article is neutral to bearish. The author suggests that investors who understand the company\\'s business are short-selling SMCI, which implies that they have a negative view of its prospects. Additionally, the article notes that money flows for NVDA are negative in the early trade, indicating that there may be selling pressure on the stock.\\n\\nOverall, the tone of the article is cautious and suggests that investors should exercise caution when considering investments in SMCI or other similar stocks.',\n",
       "       'Summary:\\n\\nThe article is a market analysis memo from Market Clubhouse, providing trade strategies for eight specific stocks: SPY, QQQ, AAPL, MSFT, NVDA, GOOGL, META, and TSLA. The memo highlights the current trading levels of each stock and provides potential price targets for both bullish and bearish scenarios.\\n\\nFor Nvidia (NVDA), the article suggests that bulls are looking to push the price up to 852.61 and establish it as a solid support level. If successful, the next targets are 865.62 and 877.25, with a high bull target of 882.97 for the day. On the downside, if NVDA fails to maintain 846.80 as support, bears might lead a decline to 822.11.\\n\\nOverall, the article advises traders to be cautious due to the array of critical economic data and events scheduled for the day, which could impact market dynamics.\\n\\nInvestment Opportunity:\\n\\nJoin Market Clubhouse for a limited time and get full access to their services, including early access to the Morning Memo, live trading streams, and exclusive trading plans and strategies.',\n",
       "       \"The article highlights Nvidia (NASDAQ:NVDA) as one of the top 10 trending stocks on WallStreetBets as of May 1, 2024. This suggests that Nvidia is a highly popular stock among online traders and investors, with many users following and discussing its performance.\\n\\nInterpretation of investment sentiment:\\n\\n* Bullish sentiment: The fact that Nvidia is listed as one of the top 10 trending stocks on WallStreetBets implies a strong interest in the company's stock performance. This could be driven by positive expectations around Nvidia's growth prospects, particularly in areas such as artificial intelligence, gaming, and autonomous driving.\\n* High demand for information: The article's mention of Benzinga Pro traders using real-time intelligence to make informed decisions suggests that investors are actively seeking information on Nvidia's performance and potential moves. This high demand for information can be interpreted as a sign of bullish sentiment.\\n* Potential catalysts: As one of the top trending stocks, Nvidia may have several catalysts driving its popularity, such as recent earnings reports, product launches, or partnerships. Investors may be excited about these developments and anticipating further growth.\\n\\nOverall, the article suggests a positive investment sentiment around Nvidia, driven by its strong performance, growth prospects, and high demand for information among online traders and investors.\",\n",
       "       \"Summary:\\n\\nThe article discusses the potential for a weaker open on Wall Street due to recent market volatility, specifically mentioning the Nasdaq and S&P 500 futures. The tech sector is under pressure after Advanced Micro Devices' (AMD) disappointing quarterly report, which has affected Nvidia's (NVDA) stock price. However, the Federal Reserve's interest rate decision and press conference by Chairman Jerome Powell may provide a catalyst for market direction.\\n\\nThe article also highlights some analysts' views on the current market sentiment:\\n\\n* Charlie Ripley from Allianz Investment Management expects Powell to help shed light on the uncertainty surrounding the path of policy rates.\\n* Ryan Detrick from Carson Group believes that April's market pullback is a necessary correction and may lead to renewed momentum in the coming months.\\n\\nOverall, the article suggests that investors are cautious due to recent economic data and inflation concerns, but some analysts remain optimistic about the potential for a summer rally.\\n\\nInterpretation:\\n\\nBased on this summary, I would interpret the investment sentiment around Nvidia (NVDA) as cautiously bearish. The market volatility and disappointment in AMD's quarterly report have put pressure on tech stocks like NVDA. However, the Federal Reserve's interest rate decision may provide a catalyst for market direction, which could impact NVDA's stock price.\\n\\nOverall, investors should be cautious and consider diversifying their portfolios to mitigate potential risks.\",\n",
       "       \"Here is a summary of the news article specific to Nvidia (NVDA) stock:\\n\\nNvidia's AI leadership has been challenged by Advanced Micro Devices (AMD), as AMD CEO Lisa Su highlighted the superior performance of AMD's MI300X GPUs in inferencing tasks compared to Nvidia's H100 GPUs. Su claimed that MI300X GPUs offer better inferencing performance and significant total cost of ownership (TCO) advantages, allowing customers to reduce initial capital expenditures by up to half and operating expenses by more than 40%. This comes after a modest beat and lukewarm guidance from AMD in its Q1 earnings call.\\n\\n**Investment Sentiment:**\\n\\nThe news article suggests that the investment sentiment towards Nvidia's AI leadership is slightly negative. While there are no direct bearish comments made about Nvidia, the challenge to its leadership by AMD could potentially affect investor confidence in NVDA stock. However, it's worth noting that NVDA stock has seen a 14.29% increase year-to-date, indicating overall positive sentiment from investors.\\n\\nIn summary, the article presents a neutral/bearish view of Nvidia's AI leadership, highlighting the competition from AMD and its potential to erode investor confidence in NVDA stock.\"],\n",
       "      dtype=object)"
      ]
     },
     "execution_count": 49,
     "metadata": {},
     "output_type": "execute_result"
    }
   ],
   "source": [
    "news_df['summary'].values"
   ]
  },
  {
   "cell_type": "code",
   "execution_count": 50,
   "id": "d39d8313",
   "metadata": {},
   "outputs": [],
   "source": [
    "results = nlp(summary_list)"
   ]
  },
  {
   "cell_type": "code",
   "execution_count": 51,
   "id": "ac945059",
   "metadata": {},
   "outputs": [
    {
     "data": {
      "text/plain": [
       "[{'label': 'Negative', 'score': 0.9275181889533997},\n",
       " {'label': 'Positive', 'score': 0.9999991655349731},\n",
       " {'label': 'Positive', 'score': 0.9999995231628418},\n",
       " {'label': 'Positive', 'score': 1.0},\n",
       " {'label': 'Neutral', 'score': 0.9435479044914246},\n",
       " {'label': 'Negative', 'score': 0.9999998807907104},\n",
       " {'label': 'Positive', 'score': 0.9999364614486694},\n",
       " {'label': 'Positive', 'score': 0.9998644590377808},\n",
       " {'label': 'Negative', 'score': 0.9983217120170593},\n",
       " {'label': 'Neutral', 'score': 0.9998190999031067},\n",
       " {'label': 'Positive', 'score': 1.0},\n",
       " {'label': 'Negative', 'score': 0.9999513626098633},\n",
       " {'label': 'Positive', 'score': 0.9940310120582581}]"
      ]
     },
     "execution_count": 51,
     "metadata": {},
     "output_type": "execute_result"
    }
   ],
   "source": [
    "results"
   ]
  },
  {
   "cell_type": "code",
   "execution_count": 14,
   "id": "2db73772",
   "metadata": {},
   "outputs": [
    {
     "data": {
      "text/plain": [
       "[\"Nvidia's Roller Coaster Ride Through Early 2024 Sets The Stage For A Potential Market Shakeup As Investors Eye The Critical First Quarter Earnings Report\",\n",
       " 'Super Micro Updates Fiscal Guidance As Nvidia Shifts, 4 Analysts Provide Perspectives',\n",
       " \"Intel Gains Favor With Redditors Over Nvidia, AMD As 'High Uncertainty, Low Risk' Stock Play\",\n",
       " \"Nvidia Backed AI Start-Up CoreWeave Lands New $1.1B Funding - What's On The Cards?\",\n",
       " \"10 Information Technology Stocks With Whale Alerts In Today's Session\",\n",
       " \"US Stocks Mixed Ahead Of Fed Meeting, Chipmakers Tumble After AMD Earnings, Bitcoin Sinks: What's Driving Markets Wednesday?\",\n",
       " \"AMD Falls On Q1 Earnings, Q2 Guidance: Why '1,000% Growth' From AI Stock Is Not Enough For Investors\",\n",
       " 'After Nvidia and Apple, Alibaba Chases Vietnam: New Data Center to Boost Control and Meet Local Laws',\n",
       " 'Super Micro Folly, Stock Market Direction Depends On Which Powell Shows Up – Objective Or Political',\n",
       " 'Market Clubhouse Morning Memo - May 1st, 2024 (Trade Strategy For SPY, QQQ, AAPL, MSFT, NVDA, GOOGL, META, And TSLA)',\n",
       " 'Top 10 Trending Stocks On WallStreetBets As Of May 1, 2024 (Via Swaggy Stocks)',\n",
       " \"Wall Street Set To Open Lower After AMD Earnings Disappoint As Traders Look To Fed's Powell For Relief: Why This Analyst Sees Incoming Summer Rally\",\n",
       " \"Nvidia's AI Leadership Challenged As AMD Claims Superior Inference Performance With MI300 Chip: 'Partners Are Seeing Very Strong Performance'\"]"
      ]
     },
     "execution_count": 14,
     "metadata": {},
     "output_type": "execute_result"
    }
   ],
   "source": [
    "headlines"
   ]
  },
  {
   "cell_type": "code",
   "execution_count": 15,
   "id": "3b7f5dec",
   "metadata": {},
   "outputs": [
    {
     "data": {
      "text/plain": [
       "['\\n\\tNvidia started 2024 with a strong performance, witnessing a 96% bull rally.\\n\\tSurpassing $974 might indicate further growth.\\n\\tAttention is turning towards Nvidia’s anticipated first-quarter earnings report.\\n\\n\\n',\n",
       " 'Wedbush analyst maintains Super Micro Computer Inc with Neutral rating and raises price target from $530 to $800, citing sales momentum and concerns about margins and competition in AI server market.',\n",
       " 'Intel is attracting attention from Reddit&#39;s ValueInvesting community for its potential turnaround and long-term growth. With a favorable market cap compared to competitors and investments in cutting-edge technologies, investors see opportunity for substantial returns.',\n",
       " 'CoreWeave, a cloud-computing firm backed by\\xa0NVIDIA, has\\xa0secured\\xa0$1.1 billion\\xa0in new funding, led by Coatue, with participation from Magnetar, who led the last primary round, as well as Altimeter Capital, Fidelity Management &amp; Research Company, and Lykos Global Management.',\n",
       " ' ',\n",
       " 'Traders are treading cautiously in Wednesday’s session, seeking more clarity on the Federal Reserve’s stance with inflation reports exceeding expectations. ',\n",
       " 'AMD raised its guidance for AI segment growth, but it wasn&#39;t enough to send shares higher after Q1 results. Analysts size up the results and guidance.',\n",
       " 'Alibaba to build data center in Vietnam to comply with local storage law and meet demand. Other tech firms also diversifying to Vietnam.',\n",
       " 'To gain an edge, this is what you need to know today.\\n\\n',\n",
       " 'Good Morning Traders! In today&#39;s Market Clubhouse Morning Memo, we will discuss SPY, QQQ, AAPL, MSFT, NVDA, GOOGL, META, and TSLA.',\n",
       " '',\n",
       " 'A negative sentiment might linger on Wall Street on Wednesday, as evidenced by stock futures, after\\xa0Advanced Micro Devices, Inc.‘s (NASDAQ:AMD)\\xa0',\n",
       " 'Su claimed that AMD&#39;s MI300X GPUs offer better inferencing performance and significant total cost of ownership advantages compared to Nvidia&#39;s H100 GPUs.']"
      ]
     },
     "execution_count": 15,
     "metadata": {},
     "output_type": "execute_result"
    }
   ],
   "source": [
    "news_df.summary.values.tolist()"
   ]
  },
  {
   "cell_type": "code",
   "execution_count": 3,
   "id": "552cade9",
   "metadata": {},
   "outputs": [],
   "source": [
    "from transformers import BertTokenizer, BertForSequenceClassification\n",
    "from transformers import pipeline"
   ]
  },
  {
   "cell_type": "code",
   "execution_count": 10,
   "id": "edb7c29c",
   "metadata": {},
   "outputs": [
    {
     "data": {
      "application/vnd.jupyter.widget-view+json": {
       "model_id": "5fc06aaa3c0a49ae8768fcb76835baaa",
       "version_major": 2,
       "version_minor": 0
      },
      "text/plain": [
       "config.json:   0%|          | 0.00/533 [00:00<?, ?B/s]"
      ]
     },
     "metadata": {},
     "output_type": "display_data"
    },
    {
     "data": {
      "application/vnd.jupyter.widget-view+json": {
       "model_id": "87278740da3f4d6c99005442f25ee3a9",
       "version_major": 2,
       "version_minor": 0
      },
      "text/plain": [
       "pytorch_model.bin:   0%|          | 0.00/439M [00:00<?, ?B/s]"
      ]
     },
     "metadata": {},
     "output_type": "display_data"
    },
    {
     "data": {
      "application/vnd.jupyter.widget-view+json": {
       "model_id": "6a260c1c50d148b38b8508cb83b12935",
       "version_major": 2,
       "version_minor": 0
      },
      "text/plain": [
       "vocab.txt:   0%|          | 0.00/226k [00:00<?, ?B/s]"
      ]
     },
     "metadata": {},
     "output_type": "display_data"
    }
   ],
   "source": [
    "finbert = BertForSequenceClassification.from_pretrained('yiyanghkust/finbert-tone',num_labels=3)\n",
    "tokenizer = BertTokenizer.from_pretrained('yiyanghkust/finbert-tone')"
   ]
  },
  {
   "cell_type": "code",
   "execution_count": 11,
   "id": "ee36da4b",
   "metadata": {},
   "outputs": [
    {
     "name": "stderr",
     "output_type": "stream",
     "text": [
      "Hardware accelerator e.g. GPU is available in the environment, but no `device` argument is passed to the `Pipeline` object. Model will be on CPU.\n"
     ]
    }
   ],
   "source": [
    "nlp = pipeline(\"sentiment-analysis\", model=finbert, tokenizer=tokenizer)"
   ]
  },
  {
   "cell_type": "code",
   "execution_count": 99,
   "id": "5d07becd",
   "metadata": {},
   "outputs": [
    {
     "name": "stderr",
     "output_type": "stream",
     "text": [
      "Hardware accelerator e.g. GPU is available in the environment, but no `device` argument is passed to the `Pipeline` object. Model will be on CPU.\n"
     ]
    }
   ],
   "source": [
    "from utils.finbert import get_sentiment"
   ]
  },
  {
   "cell_type": "code",
   "execution_count": 100,
   "id": "e189c72f",
   "metadata": {},
   "outputs": [],
   "source": [
    "summary=summary_list[0]"
   ]
  },
  {
   "cell_type": "code",
   "execution_count": 101,
   "id": "7748df2b",
   "metadata": {},
   "outputs": [],
   "source": [
    "sentiment = get_sentiment(summary)"
   ]
  },
  {
   "cell_type": "code",
   "execution_count": 105,
   "id": "0fa77eb5",
   "metadata": {},
   "outputs": [
    {
     "data": {
      "text/plain": [
       "'Negative'"
      ]
     },
     "execution_count": 105,
     "metadata": {},
     "output_type": "execute_result"
    }
   ],
   "source": [
    "sentiment[0]['label']"
   ]
  },
  {
   "cell_type": "code",
   "execution_count": 102,
   "id": "59dadf0d",
   "metadata": {},
   "outputs": [],
   "source": [
    "results = nlp(headlines)"
   ]
  },
  {
   "cell_type": "code",
   "execution_count": 24,
   "id": "272f3562",
   "metadata": {},
   "outputs": [],
   "source": [
    "label = []\n",
    "score = []\n",
    "for i in range(len(results)):\n",
    "    label.append(results[i]['label'])\n",
    "    score.append(results[i]['score'])    "
   ]
  },
  {
   "cell_type": "code",
   "execution_count": 25,
   "id": "3ccdd75f",
   "metadata": {},
   "outputs": [],
   "source": [
    "news_df['label'] = label\n",
    "news_df['score'] = score "
   ]
  },
  {
   "cell_type": "code",
   "execution_count": 26,
   "id": "523781ff",
   "metadata": {},
   "outputs": [
    {
     "data": {
      "text/html": [
       "<div>\n",
       "<style scoped>\n",
       "    .dataframe tbody tr th:only-of-type {\n",
       "        vertical-align: middle;\n",
       "    }\n",
       "\n",
       "    .dataframe tbody tr th {\n",
       "        vertical-align: top;\n",
       "    }\n",
       "\n",
       "    .dataframe thead th {\n",
       "        text-align: right;\n",
       "    }\n",
       "</style>\n",
       "<table border=\"1\" class=\"dataframe\">\n",
       "  <thead>\n",
       "    <tr style=\"text-align: right;\">\n",
       "      <th></th>\n",
       "      <th>id</th>\n",
       "      <th>author</th>\n",
       "      <th>created_at</th>\n",
       "      <th>updated_at</th>\n",
       "      <th>headline</th>\n",
       "      <th>summary</th>\n",
       "      <th>source</th>\n",
       "      <th>url</th>\n",
       "      <th>symbols</th>\n",
       "      <th>label</th>\n",
       "      <th>score</th>\n",
       "    </tr>\n",
       "  </thead>\n",
       "  <tbody>\n",
       "    <tr>\n",
       "      <th>0</th>\n",
       "      <td>38569426</td>\n",
       "      <td>Zaheer Anwari</td>\n",
       "      <td>2024-05-01T22:35:07Z</td>\n",
       "      <td>2024-05-01T22:35:49Z</td>\n",
       "      <td>Nvidia's Roller Coaster Ride Through Early 202...</td>\n",
       "      <td>\\n\\tNvidia started 2024 with a strong performa...</td>\n",
       "      <td>benzinga</td>\n",
       "      <td>https://www.benzinga.com/trading-ideas/24/05/3...</td>\n",
       "      <td>[NVDA]</td>\n",
       "      <td>Positive</td>\n",
       "      <td>0.935510</td>\n",
       "    </tr>\n",
       "    <tr>\n",
       "      <th>1</th>\n",
       "      <td>38563406</td>\n",
       "      <td>Anusuya Lahiri</td>\n",
       "      <td>2024-05-01T19:44:09Z</td>\n",
       "      <td>2024-05-01T19:44:09Z</td>\n",
       "      <td>Super Micro Updates Fiscal Guidance As Nvidia ...</td>\n",
       "      <td>Wedbush analyst maintains Super Micro Computer...</td>\n",
       "      <td>benzinga</td>\n",
       "      <td>https://www.benzinga.com/news/24/05/38563406/s...</td>\n",
       "      <td>[IDGT, NVDA, SMCI, XMMO]</td>\n",
       "      <td>Neutral</td>\n",
       "      <td>0.999987</td>\n",
       "    </tr>\n",
       "    <tr>\n",
       "      <th>2</th>\n",
       "      <td>38563400</td>\n",
       "      <td>Surbhi Jain</td>\n",
       "      <td>2024-05-01T19:43:46Z</td>\n",
       "      <td>2024-05-01T19:43:47Z</td>\n",
       "      <td>Intel Gains Favor With Redditors Over Nvidia, ...</td>\n",
       "      <td>Intel is attracting attention from Reddit&amp;#39;...</td>\n",
       "      <td>benzinga</td>\n",
       "      <td>https://www.benzinga.com/trading-ideas/long-id...</td>\n",
       "      <td>[AMD, INTC, NVDA, TSM]</td>\n",
       "      <td>Positive</td>\n",
       "      <td>0.999997</td>\n",
       "    </tr>\n",
       "    <tr>\n",
       "      <th>3</th>\n",
       "      <td>38561494</td>\n",
       "      <td>Shivani Kumaresan</td>\n",
       "      <td>2024-05-01T18:16:13Z</td>\n",
       "      <td>2024-05-01T18:16:14Z</td>\n",
       "      <td>Nvidia Backed AI Start-Up CoreWeave Lands New ...</td>\n",
       "      <td>CoreWeave, a cloud-computing firm backed by NV...</td>\n",
       "      <td>benzinga</td>\n",
       "      <td>https://www.benzinga.com/markets/equities/24/0...</td>\n",
       "      <td>[AMZN, MSFT, NVDA, NVDX, USD]</td>\n",
       "      <td>Neutral</td>\n",
       "      <td>0.999580</td>\n",
       "    </tr>\n",
       "    <tr>\n",
       "      <th>4</th>\n",
       "      <td>38560566</td>\n",
       "      <td>Benzinga Insights</td>\n",
       "      <td>2024-05-01T17:35:13Z</td>\n",
       "      <td>2024-05-01T17:35:14Z</td>\n",
       "      <td>10 Information Technology Stocks With Whale Al...</td>\n",
       "      <td></td>\n",
       "      <td>benzinga</td>\n",
       "      <td>https://www.benzinga.com/insights/options/24/0...</td>\n",
       "      <td>[AAPL, AMD, FSLY, MRVL, MU, NVDA, SMCI, SWKS, ...</td>\n",
       "      <td>Neutral</td>\n",
       "      <td>0.999794</td>\n",
       "    </tr>\n",
       "    <tr>\n",
       "      <th>5</th>\n",
       "      <td>38559813</td>\n",
       "      <td>Piero Cingari</td>\n",
       "      <td>2024-05-01T17:07:02Z</td>\n",
       "      <td>2024-05-01T17:07:03Z</td>\n",
       "      <td>US Stocks Mixed Ahead Of Fed Meeting, Chipmake...</td>\n",
       "      <td>Traders are treading cautiously in Wednesday’s...</td>\n",
       "      <td>benzinga</td>\n",
       "      <td>https://www.benzinga.com/markets/equities/24/0...</td>\n",
       "      <td>[ALB, ALL, AMD, AMZN, BTCUSD, BZH, CHRW, DIA, ...</td>\n",
       "      <td>Negative</td>\n",
       "      <td>0.999287</td>\n",
       "    </tr>\n",
       "    <tr>\n",
       "      <th>6</th>\n",
       "      <td>38558952</td>\n",
       "      <td>Chris Katje</td>\n",
       "      <td>2024-05-01T16:39:17Z</td>\n",
       "      <td>2024-05-01T16:39:18Z</td>\n",
       "      <td>AMD Falls On Q1 Earnings, Q2 Guidance: Why '1,...</td>\n",
       "      <td>AMD raised its guidance for AI segment growth,...</td>\n",
       "      <td>benzinga</td>\n",
       "      <td>https://www.benzinga.com/analyst-ratings/analy...</td>\n",
       "      <td>[AMD, NVDA]</td>\n",
       "      <td>Negative</td>\n",
       "      <td>0.824331</td>\n",
       "    </tr>\n",
       "    <tr>\n",
       "      <th>7</th>\n",
       "      <td>38556060</td>\n",
       "      <td>Anusuya Lahiri</td>\n",
       "      <td>2024-05-01T15:21:22Z</td>\n",
       "      <td>2024-05-01T15:21:23Z</td>\n",
       "      <td>After Nvidia and Apple, Alibaba Chases Vietnam...</td>\n",
       "      <td>Alibaba to build data center in Vietnam to com...</td>\n",
       "      <td>benzinga</td>\n",
       "      <td>https://www.benzinga.com/government/24/05/3855...</td>\n",
       "      <td>[AAPL, AMZN, BABA, CGRO, GOOG, GOOGL, LRCX, NV...</td>\n",
       "      <td>Neutral</td>\n",
       "      <td>0.804862</td>\n",
       "    </tr>\n",
       "    <tr>\n",
       "      <th>8</th>\n",
       "      <td>38554907</td>\n",
       "      <td>The Arora Report</td>\n",
       "      <td>2024-05-01T14:57:45Z</td>\n",
       "      <td>2024-05-01T14:59:19Z</td>\n",
       "      <td>Super Micro Folly, Stock Market Direction Depe...</td>\n",
       "      <td>To gain an edge, this is what you need to know...</td>\n",
       "      <td>benzinga</td>\n",
       "      <td>https://www.benzinga.com/markets/24/05/3855490...</td>\n",
       "      <td>[AAPL, ADP, AMZN, BTCUSD, GLD, GOOG, META, MSF...</td>\n",
       "      <td>Neutral</td>\n",
       "      <td>0.999942</td>\n",
       "    </tr>\n",
       "    <tr>\n",
       "      <th>9</th>\n",
       "      <td>38553582</td>\n",
       "      <td>RIPS</td>\n",
       "      <td>2024-05-01T14:23:03Z</td>\n",
       "      <td>2024-05-01T14:23:34Z</td>\n",
       "      <td>Market Clubhouse Morning Memo - May 1st, 2024 ...</td>\n",
       "      <td>Good Morning Traders! In today&amp;#39;s Market Cl...</td>\n",
       "      <td>benzinga</td>\n",
       "      <td>https://www.benzinga.com/markets/24/05/3855358...</td>\n",
       "      <td>[AAPL, GOOGL, META, MSFT, NVDA, QQQ, SPY, TSLA]</td>\n",
       "      <td>Neutral</td>\n",
       "      <td>0.999996</td>\n",
       "    </tr>\n",
       "    <tr>\n",
       "      <th>10</th>\n",
       "      <td>38551339</td>\n",
       "      <td>Benzinga Newsdesk</td>\n",
       "      <td>2024-05-01T13:23:41Z</td>\n",
       "      <td>2024-05-01T13:23:42Z</td>\n",
       "      <td>Top 10 Trending Stocks On WallStreetBets As Of...</td>\n",
       "      <td></td>\n",
       "      <td>benzinga</td>\n",
       "      <td>https://www.benzinga.com/trading-ideas/24/05/3...</td>\n",
       "      <td>[AAPL, AMD, AMZN, CORN, DJT, NVDA, SBUX, SMCI,...</td>\n",
       "      <td>Neutral</td>\n",
       "      <td>0.999999</td>\n",
       "    </tr>\n",
       "    <tr>\n",
       "      <th>11</th>\n",
       "      <td>38544746</td>\n",
       "      <td>Shanthi Rexaline</td>\n",
       "      <td>2024-05-01T10:44:10Z</td>\n",
       "      <td>2024-05-01T10:44:11Z</td>\n",
       "      <td>Wall Street Set To Open Lower After AMD Earnin...</td>\n",
       "      <td>A negative sentiment might linger on Wall Stre...</td>\n",
       "      <td>benzinga</td>\n",
       "      <td>https://www.benzinga.com/news/earnings/24/05/3...</td>\n",
       "      <td>[ALB, ALL, AMD, AMZN, BLCO, BTCUSD, BZH, CHRW,...</td>\n",
       "      <td>Negative</td>\n",
       "      <td>0.997471</td>\n",
       "    </tr>\n",
       "    <tr>\n",
       "      <th>12</th>\n",
       "      <td>38540318</td>\n",
       "      <td>Kaustubh Bagalkote</td>\n",
       "      <td>2024-05-01T03:44:21Z</td>\n",
       "      <td>2024-05-01T03:44:21Z</td>\n",
       "      <td>Nvidia's AI Leadership Challenged As AMD Claim...</td>\n",
       "      <td>Su claimed that AMD&amp;#39;s MI300X GPUs offer be...</td>\n",
       "      <td>benzinga</td>\n",
       "      <td>https://www.benzinga.com/news/earnings/24/04/3...</td>\n",
       "      <td>[AMD, NVDA]</td>\n",
       "      <td>Negative</td>\n",
       "      <td>0.998248</td>\n",
       "    </tr>\n",
       "  </tbody>\n",
       "</table>\n",
       "</div>"
      ],
      "text/plain": [
       "          id              author            created_at            updated_at  \\\n",
       "0   38569426       Zaheer Anwari  2024-05-01T22:35:07Z  2024-05-01T22:35:49Z   \n",
       "1   38563406      Anusuya Lahiri  2024-05-01T19:44:09Z  2024-05-01T19:44:09Z   \n",
       "2   38563400         Surbhi Jain  2024-05-01T19:43:46Z  2024-05-01T19:43:47Z   \n",
       "3   38561494   Shivani Kumaresan  2024-05-01T18:16:13Z  2024-05-01T18:16:14Z   \n",
       "4   38560566   Benzinga Insights  2024-05-01T17:35:13Z  2024-05-01T17:35:14Z   \n",
       "5   38559813       Piero Cingari  2024-05-01T17:07:02Z  2024-05-01T17:07:03Z   \n",
       "6   38558952         Chris Katje  2024-05-01T16:39:17Z  2024-05-01T16:39:18Z   \n",
       "7   38556060      Anusuya Lahiri  2024-05-01T15:21:22Z  2024-05-01T15:21:23Z   \n",
       "8   38554907    The Arora Report  2024-05-01T14:57:45Z  2024-05-01T14:59:19Z   \n",
       "9   38553582                RIPS  2024-05-01T14:23:03Z  2024-05-01T14:23:34Z   \n",
       "10  38551339   Benzinga Newsdesk  2024-05-01T13:23:41Z  2024-05-01T13:23:42Z   \n",
       "11  38544746    Shanthi Rexaline  2024-05-01T10:44:10Z  2024-05-01T10:44:11Z   \n",
       "12  38540318  Kaustubh Bagalkote  2024-05-01T03:44:21Z  2024-05-01T03:44:21Z   \n",
       "\n",
       "                                             headline  \\\n",
       "0   Nvidia's Roller Coaster Ride Through Early 202...   \n",
       "1   Super Micro Updates Fiscal Guidance As Nvidia ...   \n",
       "2   Intel Gains Favor With Redditors Over Nvidia, ...   \n",
       "3   Nvidia Backed AI Start-Up CoreWeave Lands New ...   \n",
       "4   10 Information Technology Stocks With Whale Al...   \n",
       "5   US Stocks Mixed Ahead Of Fed Meeting, Chipmake...   \n",
       "6   AMD Falls On Q1 Earnings, Q2 Guidance: Why '1,...   \n",
       "7   After Nvidia and Apple, Alibaba Chases Vietnam...   \n",
       "8   Super Micro Folly, Stock Market Direction Depe...   \n",
       "9   Market Clubhouse Morning Memo - May 1st, 2024 ...   \n",
       "10  Top 10 Trending Stocks On WallStreetBets As Of...   \n",
       "11  Wall Street Set To Open Lower After AMD Earnin...   \n",
       "12  Nvidia's AI Leadership Challenged As AMD Claim...   \n",
       "\n",
       "                                              summary    source  \\\n",
       "0   \\n\\tNvidia started 2024 with a strong performa...  benzinga   \n",
       "1   Wedbush analyst maintains Super Micro Computer...  benzinga   \n",
       "2   Intel is attracting attention from Reddit&#39;...  benzinga   \n",
       "3   CoreWeave, a cloud-computing firm backed by NV...  benzinga   \n",
       "4                                                      benzinga   \n",
       "5   Traders are treading cautiously in Wednesday’s...  benzinga   \n",
       "6   AMD raised its guidance for AI segment growth,...  benzinga   \n",
       "7   Alibaba to build data center in Vietnam to com...  benzinga   \n",
       "8   To gain an edge, this is what you need to know...  benzinga   \n",
       "9   Good Morning Traders! In today&#39;s Market Cl...  benzinga   \n",
       "10                                                     benzinga   \n",
       "11  A negative sentiment might linger on Wall Stre...  benzinga   \n",
       "12  Su claimed that AMD&#39;s MI300X GPUs offer be...  benzinga   \n",
       "\n",
       "                                                  url  \\\n",
       "0   https://www.benzinga.com/trading-ideas/24/05/3...   \n",
       "1   https://www.benzinga.com/news/24/05/38563406/s...   \n",
       "2   https://www.benzinga.com/trading-ideas/long-id...   \n",
       "3   https://www.benzinga.com/markets/equities/24/0...   \n",
       "4   https://www.benzinga.com/insights/options/24/0...   \n",
       "5   https://www.benzinga.com/markets/equities/24/0...   \n",
       "6   https://www.benzinga.com/analyst-ratings/analy...   \n",
       "7   https://www.benzinga.com/government/24/05/3855...   \n",
       "8   https://www.benzinga.com/markets/24/05/3855490...   \n",
       "9   https://www.benzinga.com/markets/24/05/3855358...   \n",
       "10  https://www.benzinga.com/trading-ideas/24/05/3...   \n",
       "11  https://www.benzinga.com/news/earnings/24/05/3...   \n",
       "12  https://www.benzinga.com/news/earnings/24/04/3...   \n",
       "\n",
       "                                              symbols     label     score  \n",
       "0                                              [NVDA]  Positive  0.935510  \n",
       "1                            [IDGT, NVDA, SMCI, XMMO]   Neutral  0.999987  \n",
       "2                              [AMD, INTC, NVDA, TSM]  Positive  0.999997  \n",
       "3                       [AMZN, MSFT, NVDA, NVDX, USD]   Neutral  0.999580  \n",
       "4   [AAPL, AMD, FSLY, MRVL, MU, NVDA, SMCI, SWKS, ...   Neutral  0.999794  \n",
       "5   [ALB, ALL, AMD, AMZN, BTCUSD, BZH, CHRW, DIA, ...  Negative  0.999287  \n",
       "6                                         [AMD, NVDA]  Negative  0.824331  \n",
       "7   [AAPL, AMZN, BABA, CGRO, GOOG, GOOGL, LRCX, NV...   Neutral  0.804862  \n",
       "8   [AAPL, ADP, AMZN, BTCUSD, GLD, GOOG, META, MSF...   Neutral  0.999942  \n",
       "9     [AAPL, GOOGL, META, MSFT, NVDA, QQQ, SPY, TSLA]   Neutral  0.999996  \n",
       "10  [AAPL, AMD, AMZN, CORN, DJT, NVDA, SBUX, SMCI,...   Neutral  0.999999  \n",
       "11  [ALB, ALL, AMD, AMZN, BLCO, BTCUSD, BZH, CHRW,...  Negative  0.997471  \n",
       "12                                        [AMD, NVDA]  Negative  0.998248  "
      ]
     },
     "execution_count": 26,
     "metadata": {},
     "output_type": "execute_result"
    }
   ],
   "source": [
    "news_df"
   ]
  },
  {
   "cell_type": "code",
   "execution_count": null,
   "id": "c5273a53",
   "metadata": {},
   "outputs": [],
   "source": [
    "url = df['url'].values[0]"
   ]
  }
 ],
 "metadata": {
  "kernelspec": {
   "display_name": "Python 3 (ipykernel)",
   "language": "python",
   "name": "python3"
  },
  "language_info": {
   "codemirror_mode": {
    "name": "ipython",
    "version": 3
   },
   "file_extension": ".py",
   "mimetype": "text/x-python",
   "name": "python",
   "nbconvert_exporter": "python",
   "pygments_lexer": "ipython3",
   "version": "3.11.5"
  }
 },
 "nbformat": 4,
 "nbformat_minor": 5
}
