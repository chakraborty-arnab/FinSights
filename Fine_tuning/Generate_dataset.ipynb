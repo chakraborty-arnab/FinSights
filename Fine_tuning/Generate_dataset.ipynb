{
 "cells": [
  {
   "cell_type": "code",
   "execution_count": 1,
   "id": "513596e2-7d68-4f1b-9a8b-35ecdea87d01",
   "metadata": {},
   "outputs": [
    {
     "name": "stderr",
     "output_type": "stream",
     "text": [
      "/opt/conda/lib/python3.10/site-packages/tqdm/auto.py:21: TqdmWarning: IProgress not found. Please update jupyter and ipywidgets. See https://ipywidgets.readthedocs.io/en/stable/user_install.html\n",
      "  from .autonotebook import tqdm as notebook_tqdm\n"
     ]
    }
   ],
   "source": [
    "import pandas as pd\n",
    "import torch  # Make sure to import the torch module  \n",
    "import transformers\n",
    "from transformers import AutoModelForCausalLM, AutoTokenizer\n",
    "import time\n",
    "import yfinance as yf\n",
    "from datetime import datetime, timedelta\n",
    "import re\n",
    "import gc  # garbage collector  \n",
    "from tqdm import tqdm\n",
    "from datasets import Dataset"
   ]
  },
  {
   "cell_type": "code",
   "execution_count": 2,
   "id": "c8fddda4-4b91-4ca6-9f01-aa6fd81c90a1",
   "metadata": {},
   "outputs": [],
   "source": [
    "df = pd.read_csv('data/NVDA_news_content.csv')"
   ]
  },
  {
   "cell_type": "code",
   "execution_count": 3,
   "id": "928f8f3a-453d-4c4c-bd3b-83bb856fbebb",
   "metadata": {},
   "outputs": [],
   "source": [
    "model_name = \"meta-llama/Meta-Llama-3.1-8B-Instruct\""
   ]
  },
  {
   "cell_type": "code",
   "execution_count": 4,
   "id": "c2133749-0145-4383-82c2-b23d9670e810",
   "metadata": {},
   "outputs": [
    {
     "name": "stderr",
     "output_type": "stream",
     "text": [
      "Loading checkpoint shards: 100%|██████████| 4/4 [00:02<00:00,  1.49it/s]\n"
     ]
    }
   ],
   "source": [
    "model = AutoModelForCausalLM.from_pretrained(model_name).to(\"cuda\")\n",
    "tokenizer = AutoTokenizer.from_pretrained(model_name)\n",
    "tokenizer.pad_token = tokenizer.eos_token"
   ]
  },
  {
   "cell_type": "code",
   "execution_count": 18,
   "id": "eb7ffe39-2a63-4e18-9e34-73dc63825e8f",
   "metadata": {},
   "outputs": [],
   "source": [
    "stock='Nvidia'\n",
    "symbol='NVDA'\n",
    "start_date = \"2024-01-02\"\n",
    "end_date = \"2024-08-14\""
   ]
  },
  {
   "cell_type": "code",
   "execution_count": 9,
   "id": "e0fa516b-2102-44fb-8cb4-a87ccbbb1f57",
   "metadata": {},
   "outputs": [
    {
     "name": "stderr",
     "output_type": "stream",
     "text": [
      "[*********************100%%**********************]  1 of 1 completed\n"
     ]
    }
   ],
   "source": [
    "price = yf.download(symbol, start=start_date, end=end_date)"
   ]
  },
  {
   "cell_type": "code",
   "execution_count": 10,
   "id": "abe8dfb9-e99e-40dd-80ac-2dac21af8130",
   "metadata": {},
   "outputs": [],
   "source": [
    "price.reset_index(inplace=True)"
   ]
  },
  {
   "cell_type": "code",
   "execution_count": 11,
   "id": "8c497ef0-b750-4d8c-9c4f-d2f7f9868b76",
   "metadata": {},
   "outputs": [],
   "source": [
    "price['date_str'] = price['Date'].apply(lambda x: x.date().strftime('%Y-%m-%d'))  "
   ]
  },
  {
   "cell_type": "code",
   "execution_count": 12,
   "id": "bfed20d9-3e4a-4f31-b6ea-a2276fa8b01e",
   "metadata": {},
   "outputs": [],
   "source": [
    "price['daily_returns'] = (price['Adj Close'] - price['Open']) / price['Adj Close']"
   ]
  },
  {
   "cell_type": "code",
   "execution_count": 13,
   "id": "8d73c127-3785-4f7f-8e3a-1d4fdd945b94",
   "metadata": {},
   "outputs": [],
   "source": [
    "df['date'] = pd.to_datetime(df['date'])  \n",
    "df['date_str'] = df['date'].dt.strftime('%Y-%m-%d')  "
   ]
  },
  {
   "cell_type": "code",
   "execution_count": 14,
   "id": "7422ccce-c29f-4050-b643-030c4a54ff4e",
   "metadata": {},
   "outputs": [],
   "source": [
    "def generate_response(input_text):  \n",
    "    input_ids = tokenizer(input_text, return_tensors=\"pt\").to(\"cuda\")  \n",
    "    output = model.generate(**input_ids, max_new_tokens=200, temperature=0.1)  \n",
    "    response = tokenizer.decode(output[0], skip_special_tokens=True)  \n",
    "    del input_ids, output  \n",
    "    torch.cuda.empty_cache()        \n",
    "    return response "
   ]
  },
  {
   "cell_type": "code",
   "execution_count": 15,
   "id": "c1205d3f-e67d-4425-b2df-223138a25542",
   "metadata": {},
   "outputs": [],
   "source": [
    "overall_summary_template = \"\"\"\n",
    "You are a financial analyst tasked with summarizing key information that could impact the stock price of {stock}. \n",
    "Below is a list of news topics and their short content:\n",
    "{summaries}\n",
    "Based on these news items, please provide a concise summary of the major key points that might impact {stock}'s stock price. \n",
    "Focus on the following:\n",
    "    1. Identify the most significant positive and negative factors.\n",
    "    2. Highlight any recurring themes or trends across multiple news items.\n",
    "    3. Mention any upcoming events or announcements that could influence the stock.\n",
    "    4. Provide a brief overview of the general sentiment towards {stock} based on these news items.\n",
    "Your summary should be clear, concise, and directly related to potential stock price impacts. Aim for a length of 3-5 paragraphs.\n",
    "\n",
    "Overall Summary:\"\"\""
   ]
  },
  {
   "cell_type": "code",
   "execution_count": 16,
   "id": "02c47dcb-e214-4160-a82f-08d9d61dd037",
   "metadata": {},
   "outputs": [],
   "source": [
    "trade_template = \"\"\"As an expert trading agent with extensive experience in trading {stock}, analyze the following information:\n",
    "Date: {date}\n",
    "Recent Stock Performance:\n",
    "{table_string}\n",
    "Recent News Summary:\n",
    "{summary}\n",
    "\n",
    "Based on the provided data, please offer an investment decision. Consider factors such as:\n",
    "1. Current market trends in the technology sector\n",
    "2. Nvidia's recent stock price momentum\n",
    "3. Potential impact of the news on stock performance\n",
    "    \n",
    "Provide your analysis using the following format:\n",
    "Decision: (Buy/Sell/Hold)\n",
    "Confidence Level: (Low/Medium/High)\n",
    "Reasoning: (Explain your decision in 3-5 concise points)\n",
    "\n",
    "Answer:\n",
    "\"\"\""
   ]
  },
  {
   "cell_type": "code",
   "execution_count": 23,
   "id": "65f836c4-e166-4d60-98c2-47fe033e8d36",
   "metadata": {},
   "outputs": [
    {
     "name": "stderr",
     "output_type": "stream",
     "text": [
      "  0%|          | 0/96 [00:00<?, ?it/s]Setting `pad_token_id` to `eos_token_id`:128001 for open-end generation.\n",
      "Setting `pad_token_id` to `eos_token_id`:128001 for open-end generation.\n",
      "  1%|          | 1/96 [00:31<50:17, 31.76s/it]Setting `pad_token_id` to `eos_token_id`:128001 for open-end generation.\n",
      "Setting `pad_token_id` to `eos_token_id`:128001 for open-end generation.\n",
      "  2%|▏         | 2/96 [01:01<47:58, 30.63s/it]Setting `pad_token_id` to `eos_token_id`:128001 for open-end generation.\n",
      "Setting `pad_token_id` to `eos_token_id`:128001 for open-end generation.\n",
      "  3%|▎         | 3/96 [01:31<46:54, 30.26s/it]Setting `pad_token_id` to `eos_token_id`:128001 for open-end generation.\n",
      "Setting `pad_token_id` to `eos_token_id`:128001 for open-end generation.\n",
      "  4%|▍         | 4/96 [02:01<46:08, 30.10s/it]Setting `pad_token_id` to `eos_token_id`:128001 for open-end generation.\n",
      "Setting `pad_token_id` to `eos_token_id`:128001 for open-end generation.\n",
      "  5%|▌         | 5/96 [02:31<45:30, 30.01s/it]Setting `pad_token_id` to `eos_token_id`:128001 for open-end generation.\n",
      "Setting `pad_token_id` to `eos_token_id`:128001 for open-end generation.\n",
      "  8%|▊         | 8/96 [03:00<26:08, 17.82s/it]Setting `pad_token_id` to `eos_token_id`:128001 for open-end generation.\n",
      "Setting `pad_token_id` to `eos_token_id`:128001 for open-end generation.\n",
      "  9%|▉         | 9/96 [03:30<29:41, 20.47s/it]Setting `pad_token_id` to `eos_token_id`:128001 for open-end generation.\n",
      "Setting `pad_token_id` to `eos_token_id`:128001 for open-end generation.\n",
      " 10%|█         | 10/96 [04:00<32:35, 22.74s/it]Setting `pad_token_id` to `eos_token_id`:128001 for open-end generation.\n",
      "Setting `pad_token_id` to `eos_token_id`:128001 for open-end generation.\n",
      " 11%|█▏        | 11/96 [04:30<34:47, 24.56s/it]Setting `pad_token_id` to `eos_token_id`:128001 for open-end generation.\n",
      "Setting `pad_token_id` to `eos_token_id`:128001 for open-end generation.\n",
      " 12%|█▎        | 12/96 [04:59<36:21, 25.97s/it]Setting `pad_token_id` to `eos_token_id`:128001 for open-end generation.\n",
      "Setting `pad_token_id` to `eos_token_id`:128001 for open-end generation.\n",
      " 16%|█▌        | 15/96 [05:29<23:28, 17.39s/it]Setting `pad_token_id` to `eos_token_id`:128001 for open-end generation.\n",
      "Setting `pad_token_id` to `eos_token_id`:128001 for open-end generation.\n",
      " 17%|█▋        | 16/96 [05:54<25:07, 18.85s/it]Setting `pad_token_id` to `eos_token_id`:128001 for open-end generation.\n",
      "Setting `pad_token_id` to `eos_token_id`:128001 for open-end generation.\n",
      " 18%|█▊        | 17/96 [06:24<28:03, 21.32s/it]Setting `pad_token_id` to `eos_token_id`:128001 for open-end generation.\n",
      "Setting `pad_token_id` to `eos_token_id`:128001 for open-end generation.\n",
      " 19%|█▉        | 18/96 [06:50<29:21, 22.58s/it]Setting `pad_token_id` to `eos_token_id`:128001 for open-end generation.\n",
      "Setting `pad_token_id` to `eos_token_id`:128001 for open-end generation.\n",
      " 20%|█▉        | 19/96 [07:15<29:44, 23.18s/it]Setting `pad_token_id` to `eos_token_id`:128001 for open-end generation.\n",
      "Setting `pad_token_id` to `eos_token_id`:128001 for open-end generation.\n",
      " 24%|██▍       | 23/96 [07:43<16:27, 13.53s/it]Setting `pad_token_id` to `eos_token_id`:128001 for open-end generation.\n",
      "Setting `pad_token_id` to `eos_token_id`:128001 for open-end generation.\n",
      " 25%|██▌       | 24/96 [08:08<18:42, 15.59s/it]Setting `pad_token_id` to `eos_token_id`:128001 for open-end generation.\n",
      "Setting `pad_token_id` to `eos_token_id`:128001 for open-end generation.\n",
      " 26%|██▌       | 25/96 [08:38<21:49, 18.44s/it]Setting `pad_token_id` to `eos_token_id`:128001 for open-end generation.\n",
      "Setting `pad_token_id` to `eos_token_id`:128001 for open-end generation.\n",
      " 27%|██▋       | 26/96 [09:08<24:27, 20.97s/it]Setting `pad_token_id` to `eos_token_id`:128001 for open-end generation.\n",
      "Setting `pad_token_id` to `eos_token_id`:128001 for open-end generation.\n",
      " 30%|███       | 29/96 [09:38<17:23, 15.58s/it]Setting `pad_token_id` to `eos_token_id`:128001 for open-end generation.\n",
      "Setting `pad_token_id` to `eos_token_id`:128001 for open-end generation.\n",
      " 31%|███▏      | 30/96 [10:08<20:05, 18.26s/it]Setting `pad_token_id` to `eos_token_id`:128001 for open-end generation.\n",
      "Setting `pad_token_id` to `eos_token_id`:128001 for open-end generation.\n",
      " 32%|███▏      | 31/96 [10:37<22:26, 20.71s/it]Setting `pad_token_id` to `eos_token_id`:128001 for open-end generation.\n",
      "Setting `pad_token_id` to `eos_token_id`:128001 for open-end generation.\n",
      " 33%|███▎      | 32/96 [11:07<24:20, 22.83s/it]Setting `pad_token_id` to `eos_token_id`:128001 for open-end generation.\n",
      "Setting `pad_token_id` to `eos_token_id`:128001 for open-end generation.\n",
      " 34%|███▍      | 33/96 [11:37<25:47, 24.56s/it]Setting `pad_token_id` to `eos_token_id`:128001 for open-end generation.\n",
      "Setting `pad_token_id` to `eos_token_id`:128001 for open-end generation.\n",
      " 38%|███▊      | 36/96 [12:07<17:00, 17.00s/it]Setting `pad_token_id` to `eos_token_id`:128001 for open-end generation.\n",
      "Setting `pad_token_id` to `eos_token_id`:128001 for open-end generation.\n",
      " 39%|███▊      | 37/96 [12:35<19:00, 19.32s/it]Setting `pad_token_id` to `eos_token_id`:128001 for open-end generation.\n",
      "Setting `pad_token_id` to `eos_token_id`:128001 for open-end generation.\n",
      " 40%|███▉      | 38/96 [13:05<20:54, 21.63s/it]Setting `pad_token_id` to `eos_token_id`:128001 for open-end generation.\n",
      "Setting `pad_token_id` to `eos_token_id`:128001 for open-end generation.\n",
      " 41%|████      | 39/96 [13:35<22:24, 23.58s/it]Setting `pad_token_id` to `eos_token_id`:128001 for open-end generation.\n",
      "Setting `pad_token_id` to `eos_token_id`:128001 for open-end generation.\n",
      " 42%|████▏     | 40/96 [14:05<23:29, 25.17s/it]Setting `pad_token_id` to `eos_token_id`:128001 for open-end generation.\n",
      "Setting `pad_token_id` to `eos_token_id`:128001 for open-end generation.\n",
      " 45%|████▍     | 43/96 [14:35<15:12, 17.22s/it]Setting `pad_token_id` to `eos_token_id`:128001 for open-end generation.\n",
      "Setting `pad_token_id` to `eos_token_id`:128001 for open-end generation.\n",
      " 46%|████▌     | 44/96 [15:04<17:05, 19.72s/it]Setting `pad_token_id` to `eos_token_id`:128001 for open-end generation.\n",
      "Setting `pad_token_id` to `eos_token_id`:128001 for open-end generation.\n",
      " 48%|████▊     | 46/96 [15:34<14:58, 17.97s/it]Setting `pad_token_id` to `eos_token_id`:128001 for open-end generation.\n",
      "Setting `pad_token_id` to `eos_token_id`:128001 for open-end generation.\n",
      " 49%|████▉     | 47/96 [16:04<16:39, 20.41s/it]Setting `pad_token_id` to `eos_token_id`:128001 for open-end generation.\n",
      "Setting `pad_token_id` to `eos_token_id`:128001 for open-end generation.\n",
      " 52%|█████▏    | 50/96 [16:34<11:52, 15.50s/it]Setting `pad_token_id` to `eos_token_id`:128001 for open-end generation.\n",
      "Setting `pad_token_id` to `eos_token_id`:128001 for open-end generation.\n",
      " 53%|█████▎    | 51/96 [17:04<13:34, 18.11s/it]Setting `pad_token_id` to `eos_token_id`:128001 for open-end generation.\n",
      "Setting `pad_token_id` to `eos_token_id`:128001 for open-end generation.\n",
      " 54%|█████▍    | 52/96 [17:33<15:03, 20.53s/it]Setting `pad_token_id` to `eos_token_id`:128001 for open-end generation.\n",
      "Setting `pad_token_id` to `eos_token_id`:128001 for open-end generation.\n",
      " 55%|█████▌    | 53/96 [18:03<16:13, 22.65s/it]Setting `pad_token_id` to `eos_token_id`:128001 for open-end generation.\n",
      "Setting `pad_token_id` to `eos_token_id`:128001 for open-end generation.\n",
      " 56%|█████▋    | 54/96 [18:33<17:05, 24.42s/it]Setting `pad_token_id` to `eos_token_id`:128001 for open-end generation.\n",
      "Setting `pad_token_id` to `eos_token_id`:128001 for open-end generation.\n",
      " 59%|█████▉    | 57/96 [19:03<11:02, 17.00s/it]Setting `pad_token_id` to `eos_token_id`:128001 for open-end generation.\n",
      "Setting `pad_token_id` to `eos_token_id`:128001 for open-end generation.\n",
      " 60%|██████    | 58/96 [19:33<12:21, 19.52s/it]Setting `pad_token_id` to `eos_token_id`:128001 for open-end generation.\n",
      "Setting `pad_token_id` to `eos_token_id`:128001 for open-end generation.\n",
      " 61%|██████▏   | 59/96 [20:03<13:25, 21.78s/it]Setting `pad_token_id` to `eos_token_id`:128001 for open-end generation.\n",
      "Setting `pad_token_id` to `eos_token_id`:128001 for open-end generation.\n",
      " 64%|██████▎   | 61/96 [20:33<11:09, 19.14s/it]Setting `pad_token_id` to `eos_token_id`:128001 for open-end generation.\n",
      "Setting `pad_token_id` to `eos_token_id`:128001 for open-end generation.\n",
      " 67%|██████▋   | 64/96 [21:02<07:59, 14.98s/it]Setting `pad_token_id` to `eos_token_id`:128001 for open-end generation.\n",
      "Setting `pad_token_id` to `eos_token_id`:128001 for open-end generation.\n",
      " 68%|██████▊   | 65/96 [21:32<09:05, 17.61s/it]Setting `pad_token_id` to `eos_token_id`:128001 for open-end generation.\n",
      "Setting `pad_token_id` to `eos_token_id`:128001 for open-end generation.\n",
      " 69%|██████▉   | 66/96 [22:02<10:02, 20.08s/it]Setting `pad_token_id` to `eos_token_id`:128001 for open-end generation.\n",
      "Setting `pad_token_id` to `eos_token_id`:128001 for open-end generation.\n",
      " 70%|██████▉   | 67/96 [22:32<10:45, 22.26s/it]Setting `pad_token_id` to `eos_token_id`:128001 for open-end generation.\n",
      "Setting `pad_token_id` to `eos_token_id`:128001 for open-end generation.\n",
      " 71%|███████   | 68/96 [23:02<11:14, 24.08s/it]Setting `pad_token_id` to `eos_token_id`:128001 for open-end generation.\n",
      "Setting `pad_token_id` to `eos_token_id`:128001 for open-end generation.\n",
      " 74%|███████▍  | 71/96 [23:31<07:01, 16.88s/it]Setting `pad_token_id` to `eos_token_id`:128001 for open-end generation.\n",
      "Setting `pad_token_id` to `eos_token_id`:128001 for open-end generation.\n",
      " 75%|███████▌  | 72/96 [24:01<07:45, 19.40s/it]Setting `pad_token_id` to `eos_token_id`:128001 for open-end generation.\n",
      "Setting `pad_token_id` to `eos_token_id`:128001 for open-end generation.\n",
      " 76%|███████▌  | 73/96 [24:31<08:18, 21.67s/it]Setting `pad_token_id` to `eos_token_id`:128001 for open-end generation.\n",
      "Setting `pad_token_id` to `eos_token_id`:128001 for open-end generation.\n",
      " 77%|███████▋  | 74/96 [25:01<08:39, 23.60s/it]Setting `pad_token_id` to `eos_token_id`:128001 for open-end generation.\n",
      "Setting `pad_token_id` to `eos_token_id`:128001 for open-end generation.\n",
      " 78%|███████▊  | 75/96 [25:31<08:48, 25.17s/it]Setting `pad_token_id` to `eos_token_id`:128001 for open-end generation.\n",
      "Setting `pad_token_id` to `eos_token_id`:128001 for open-end generation.\n",
      " 81%|████████▏ | 78/96 [26:00<05:10, 17.23s/it]Setting `pad_token_id` to `eos_token_id`:128001 for open-end generation.\n",
      "Setting `pad_token_id` to `eos_token_id`:128001 for open-end generation.\n",
      " 82%|████████▏ | 79/96 [26:30<05:35, 19.73s/it]Setting `pad_token_id` to `eos_token_id`:128001 for open-end generation.\n",
      "Setting `pad_token_id` to `eos_token_id`:128001 for open-end generation.\n",
      " 83%|████████▎ | 80/96 [26:59<05:47, 21.71s/it]Setting `pad_token_id` to `eos_token_id`:128001 for open-end generation.\n",
      "Setting `pad_token_id` to `eos_token_id`:128001 for open-end generation.\n",
      " 84%|████████▍ | 81/96 [27:29<05:54, 23.65s/it]Setting `pad_token_id` to `eos_token_id`:128001 for open-end generation.\n",
      "Setting `pad_token_id` to `eos_token_id`:128001 for open-end generation.\n",
      " 85%|████████▌ | 82/96 [27:58<05:53, 25.22s/it]Setting `pad_token_id` to `eos_token_id`:128001 for open-end generation.\n",
      "Setting `pad_token_id` to `eos_token_id`:128001 for open-end generation.\n",
      " 89%|████████▊ | 85/96 [28:28<03:09, 17.23s/it]Setting `pad_token_id` to `eos_token_id`:128001 for open-end generation.\n",
      "Setting `pad_token_id` to `eos_token_id`:128001 for open-end generation.\n",
      " 90%|████████▉ | 86/96 [28:58<03:17, 19.73s/it]Setting `pad_token_id` to `eos_token_id`:128001 for open-end generation.\n",
      "Setting `pad_token_id` to `eos_token_id`:128001 for open-end generation.\n",
      " 91%|█████████ | 87/96 [29:28<03:17, 21.97s/it]Setting `pad_token_id` to `eos_token_id`:128001 for open-end generation.\n",
      "Setting `pad_token_id` to `eos_token_id`:128001 for open-end generation.\n",
      " 92%|█████████▏| 88/96 [29:54<03:03, 22.97s/it]Setting `pad_token_id` to `eos_token_id`:128001 for open-end generation.\n",
      "Setting `pad_token_id` to `eos_token_id`:128001 for open-end generation.\n",
      " 93%|█████████▎| 89/96 [30:24<02:53, 24.72s/it]Setting `pad_token_id` to `eos_token_id`:128001 for open-end generation.\n",
      "Setting `pad_token_id` to `eos_token_id`:128001 for open-end generation.\n",
      " 96%|█████████▌| 92/96 [30:54<01:07, 16.99s/it]Setting `pad_token_id` to `eos_token_id`:128001 for open-end generation.\n",
      "Setting `pad_token_id` to `eos_token_id`:128001 for open-end generation.\n",
      " 97%|█████████▋| 93/96 [31:21<00:57, 19.09s/it]Setting `pad_token_id` to `eos_token_id`:128001 for open-end generation.\n",
      "Setting `pad_token_id` to `eos_token_id`:128001 for open-end generation.\n",
      " 98%|█████████▊| 94/96 [31:51<00:42, 21.46s/it]Setting `pad_token_id` to `eos_token_id`:128001 for open-end generation.\n",
      "Setting `pad_token_id` to `eos_token_id`:128001 for open-end generation.\n",
      " 99%|█████████▉| 95/96 [32:21<00:23, 23.47s/it]Setting `pad_token_id` to `eos_token_id`:128001 for open-end generation.\n",
      "Setting `pad_token_id` to `eos_token_id`:128001 for open-end generation.\n",
      "100%|██████████| 96/96 [32:46<00:00, 20.49s/it]\n"
     ]
    }
   ],
   "source": [
    "loop_start_date_str = \"2024-05-06\"      \n",
    "loop_end_date_str = \"2024-08-09\"      \n",
    "results_df = pd.DataFrame()  # Initialize new DataFrame      \n",
    "  \n",
    "loop_start_date = datetime.strptime(loop_start_date_str, \"%Y-%m-%d\")      \n",
    "loop_end_date = datetime.strptime(loop_end_date_str, \"%Y-%m-%d\")    \n",
    "  \n",
    "total_days = (loop_end_date - loop_start_date).days + 1    \n",
    "  \n",
    "for single_date in tqdm([loop_start_date + timedelta(n) for n in range(total_days)]):    \n",
    "      \n",
    "    returns = price[price['Date'] == single_date]  \n",
    "    if not returns.empty:  \n",
    "        daily_return = returns.daily_returns.values[0]\n",
    "        news_date = single_date - timedelta(days=5)      \n",
    "        news_date_str = news_date.strftime(\"%Y-%m-%d\")      \n",
    "        curr_news_df = df[(df['date_str'] >= news_date_str)&(df['date_str'] < single_date.strftime(\"%Y-%m-%d\"))]      \n",
    "        curr_news_df = curr_news_df[(~curr_news_df['summary'].isna()) &  (~curr_news_df['topic'].isna())]      \n",
    "  \n",
    "        summaries_text = \"\"      \n",
    "        for i in range(len(curr_news_df)):      \n",
    "            summaries_text += f\"Topic {i}: {curr_news_df.topic.values[i]}\\n\"      \n",
    "            summaries_text += f\"Content: {curr_news_df.summary.values[i]}\\n\\n\"      \n",
    "  \n",
    "        overall_summary_prompt = overall_summary_template.format(stock=stock, summaries=summaries_text)      \n",
    "        response = generate_response(overall_summary_prompt)      \n",
    "        overall_summary = response.split('Overall Summary:')[-1]      \n",
    "  \n",
    "        stock_date = single_date - timedelta(days=7)      \n",
    "        stock_date_str = stock_date.strftime(\"%Y-%m-%d\")      \n",
    "        current_price = price[(price['Date']>=stock_date_str)&(price['Date']<single_date.strftime(\"%Y-%m-%d\"))]      \n",
    "        table_string = price.to_string(index=False)      \n",
    "        trade_prompt = trade_template.format(stock=stock, date = single_date.strftime(\"%Y-%m-%d\"), table_string = table_string, summary=overall_summary)      \n",
    "        response = generate_response(trade_prompt)      \n",
    "        trade_decision = response.split('Answer:')[-1]      \n",
    "        decision = re.search(r'Decision: (.*)\\n', trade_decision).group(1)        \n",
    "        confidence = re.search(r'Confidence Level: (.*)\\n', trade_decision).group(1)        \n",
    "        reasoning = re.search(r'Reasoning:\\n(.*)', trade_decision, re.DOTALL).group(1)      \n",
    "  \n",
    "        new_row = pd.DataFrame({'Date': [single_date], 'News_Summary':[overall_summary], 'Input': [trade_prompt],  'Output':[trade_decision],  \n",
    "                                'Decision': [decision], 'Confidence': [confidence],   'Reasoning': [reasoning],\n",
    "                                'daily_return': [daily_return]})    \n",
    "        results_df = pd.concat([results_df, new_row], ignore_index=True)      \n",
    "  \n",
    "        del news_date, news_date_str, curr_news_df, summaries_text, overall_summary_prompt, response, overall_summary, stock_date, stock_date_str, current_price, table_string, trade_prompt, trade_decision, decision, confidence, reasoning, new_row  \n",
    "        gc.collect()  "
   ]
  },
  {
   "cell_type": "markdown",
   "id": "a6872066-bf8c-4094-ba06-f49fa009ec12",
   "metadata": {},
   "source": [
    "# Correct Decisions"
   ]
  },
  {
   "cell_type": "code",
   "execution_count": 29,
   "id": "2725edc1-9be6-49db-804c-8066792e5f71",
   "metadata": {},
   "outputs": [
    {
     "data": {
      "text/plain": [
       "34"
      ]
     },
     "execution_count": 29,
     "metadata": {},
     "output_type": "execute_result"
    }
   ],
   "source": [
    "len(results_df[(results_df['Decision'] == 'Buy') & (results_df['daily_return']>=0)])"
   ]
  },
  {
   "cell_type": "code",
   "execution_count": 31,
   "id": "c33e323d-4180-43b8-99ce-eb55844ec930",
   "metadata": {},
   "outputs": [
    {
     "data": {
      "text/plain": [
       "5"
      ]
     },
     "execution_count": 31,
     "metadata": {},
     "output_type": "execute_result"
    }
   ],
   "source": [
    "len(results_df[(results_df['Decision'] == 'Sell') & (results_df['daily_return']<0)])"
   ]
  },
  {
   "cell_type": "markdown",
   "id": "e40a1e7e-2552-4049-bb1b-bacc8a75e444",
   "metadata": {},
   "source": [
    "# Wrong Decisions"
   ]
  },
  {
   "cell_type": "code",
   "execution_count": 28,
   "id": "74c5a5fa-c174-4542-ad84-28c7a2297969",
   "metadata": {},
   "outputs": [
    {
     "data": {
      "text/plain": [
       "26"
      ]
     },
     "execution_count": 28,
     "metadata": {},
     "output_type": "execute_result"
    }
   ],
   "source": [
    "len(results_df[(results_df['Decision'] == 'Buy') & (results_df['daily_return']<0)])"
   ]
  },
  {
   "cell_type": "code",
   "execution_count": 30,
   "id": "4a3dfc96-d939-4843-b425-b2962e649dd3",
   "metadata": {},
   "outputs": [
    {
     "data": {
      "text/plain": [
       "0"
      ]
     },
     "execution_count": 30,
     "metadata": {},
     "output_type": "execute_result"
    }
   ],
   "source": [
    "len(results_df[(results_df['Decision'] == 'Sell') & (results_df['daily_return']>=0)])"
   ]
  },
  {
   "cell_type": "markdown",
   "id": "784760e5-4522-4a14-b480-2b5369187ea2",
   "metadata": {},
   "source": [
    "# Filter wrong Decisions"
   ]
  },
  {
   "cell_type": "code",
   "execution_count": 34,
   "id": "3806b6e3-9b2a-4f77-bb0b-87165a5c3775",
   "metadata": {},
   "outputs": [],
   "source": [
    "results_df = results_df[(\n",
    "    (results_df['Decision'] == 'Buy') & (results_df['daily_return']>=0)) | (\n",
    "    (results_df['Decision'] == 'Sell') & (results_df['daily_return']>=0))]"
   ]
  },
  {
   "cell_type": "code",
   "execution_count": 36,
   "id": "d47b4670-1ec3-488f-89f6-1904026c82c9",
   "metadata": {},
   "outputs": [
    {
     "data": {
      "text/plain": [
       "34"
      ]
     },
     "execution_count": 36,
     "metadata": {},
     "output_type": "execute_result"
    }
   ],
   "source": [
    "len(results_df)"
   ]
  },
  {
   "cell_type": "code",
   "execution_count": 38,
   "id": "2253dacf-f179-47de-b43b-9c56f3722bdd",
   "metadata": {},
   "outputs": [],
   "source": [
    "# results_df"
   ]
  },
  {
   "cell_type": "code",
   "execution_count": 39,
   "id": "9daab49e-07ba-4511-bf18-f9cb04c9e040",
   "metadata": {},
   "outputs": [],
   "source": [
    "dataset = Dataset.from_pandas(results_df)"
   ]
  },
  {
   "cell_type": "code",
   "execution_count": 40,
   "id": "50fbeaa3-3075-4cb1-9610-5bf094eda3b3",
   "metadata": {},
   "outputs": [
    {
     "name": "stderr",
     "output_type": "stream",
     "text": [
      "Uploading the dataset shards:   0%|          | 0/1 [00:00<?, ?it/s]\n",
      "Creating parquet from Arrow format: 100%|██████████| 1/1 [00:00<00:00, 333.41ba/s]\n",
      "Uploading the dataset shards: 100%|██████████| 1/1 [00:00<00:00,  1.08it/s]\n"
     ]
    },
    {
     "data": {
      "text/plain": [
       "CommitInfo(commit_url='https://huggingface.co/datasets/Arnab13/llama_trade_decisions/commit/985e521b50d6ac7dbd21e715430b289acedfff4c', commit_message='Upload dataset', commit_description='', oid='985e521b50d6ac7dbd21e715430b289acedfff4c', pr_url=None, pr_revision=None, pr_num=None)"
      ]
     },
     "execution_count": 40,
     "metadata": {},
     "output_type": "execute_result"
    }
   ],
   "source": [
    "dataset.push_to_hub(\"Arnab13/llama_trade_decisions\")"
   ]
  },
  {
   "cell_type": "code",
   "execution_count": null,
   "id": "4ac545a7-7bbb-4bf7-bb0f-93a46eedb53c",
   "metadata": {},
   "outputs": [],
   "source": []
  }
 ],
 "metadata": {
  "kernelspec": {
   "display_name": "Python 3 (ipykernel)",
   "language": "python",
   "name": "python3"
  },
  "language_info": {
   "codemirror_mode": {
    "name": "ipython",
    "version": 3
   },
   "file_extension": ".py",
   "mimetype": "text/x-python",
   "name": "python",
   "nbconvert_exporter": "python",
   "pygments_lexer": "ipython3",
   "version": "3.10.13"
  }
 },
 "nbformat": 4,
 "nbformat_minor": 5
}
