{
 "cells": [
  {
   "cell_type": "code",
   "execution_count": 43,
   "id": "7686b975",
   "metadata": {},
   "outputs": [],
   "source": [
    "from utils.news import get_news, get_url_content\n",
    "from datetime import datetime, timedelta\n",
    "import pandas as pd\n",
    "from tqdm import tqdm\n",
    "from sentence_transformers import SentenceTransformer\n",
    "import yfinance as yf"
   ]
  },
  {
   "cell_type": "code",
   "execution_count": 22,
   "id": "397095b3",
   "metadata": {},
   "outputs": [],
   "source": [
    "# Parameters\n",
    "symbol = \"NVDA\"  \n",
    "start_date = \"2024-01-02\"\n",
    "end_date = \"2024-08-13\"\n",
    "news_duration = 1"
   ]
  },
  {
   "cell_type": "code",
   "execution_count": 23,
   "id": "d91fa628",
   "metadata": {},
   "outputs": [],
   "source": [
    "all_news_df = pd.DataFrame()\n",
    "\n",
    "current_date = datetime.strptime(start_date, \"%Y-%m-%d\")\n",
    "end_date = datetime.strptime(end_date, \"%Y-%m-%d\")\n",
    "\n",
    "total_days = (end_date - current_date).days + 1"
   ]
  },
  {
   "cell_type": "code",
   "execution_count": 26,
   "id": "aa22c4be",
   "metadata": {},
   "outputs": [
    {
     "name": "stderr",
     "output_type": "stream",
     "text": [
      "Fetching news: 100%|██████████████████████████| 225/225 [08:52<00:00,  2.37s/it]\n"
     ]
    }
   ],
   "source": [
    "# Iterate from start_date to end_date with progress bar\n",
    "for _ in tqdm(range(total_days), desc=\"Fetching news\"):\n",
    "    date_str = current_date.strftime(\"%Y-%m-%d\")\n",
    "    \n",
    "    # Fetch news for the current date\n",
    "    df = get_news(symbol, date_str, news_duration)\n",
    "    \n",
    "    if not df.empty:\n",
    "        df = df[df['symbols'].apply(lambda x: symbol in x)]\n",
    "        \n",
    "        df['date'] = pd.to_datetime(df['updated_at'], format='%Y-%m-%dT%H:%M:%SZ', utc=True)\n",
    "        df['symbol'] = symbol\n",
    "        \n",
    "        # Extract topics and content\n",
    "        df['topic'], df['content'] = zip(*[get_url_content(url) for url in df['url'].values])\n",
    "        \n",
    "        # Append the current day's news to the overall DataFrame\n",
    "        all_news_df = pd.concat([all_news_df, df], ignore_index=True)\n",
    "    \n",
    "    # Move to the next day\n",
    "    current_date += timedelta(days=1)"
   ]
  },
  {
   "cell_type": "code",
   "execution_count": 34,
   "id": "57d97353",
   "metadata": {},
   "outputs": [],
   "source": [
    "file_name = 'data/' + symbol + '_news_content.csv'"
   ]
  },
  {
   "cell_type": "code",
   "execution_count": 35,
   "id": "b2c74e17",
   "metadata": {},
   "outputs": [
    {
     "data": {
      "text/plain": [
       "'data/NVDA_news_content.csv'"
      ]
     },
     "execution_count": 35,
     "metadata": {},
     "output_type": "execute_result"
    }
   ],
   "source": [
    "file_name"
   ]
  },
  {
   "cell_type": "code",
   "execution_count": 36,
   "id": "b1a7eeb8",
   "metadata": {},
   "outputs": [],
   "source": [
    "all_news_df.to_csv(file_name, index=False)"
   ]
  },
  {
   "cell_type": "code",
   "execution_count": 39,
   "id": "dfcad8ef",
   "metadata": {},
   "outputs": [],
   "source": [
    "query = \"Nvidia, GPU, semiconductor, gaming, AI, data center, autonomous vehicle, edge computing, IoT, machine learning, autonomous driving, NVIDIA GeForce, NVIDIA DRIVE, NVIDIA Jetson\""
   ]
  },
  {
   "cell_type": "code",
   "execution_count": 44,
   "id": "c6713e6b",
   "metadata": {},
   "outputs": [
    {
     "name": "stdout",
     "output_type": "stream",
     "text": [
      "[*********************100%%**********************]  1 of 1 completed\n"
     ]
    }
   ],
   "source": [
    "price = yf.download(symbol, start = start_date, end=end_date)"
   ]
  },
  {
   "cell_type": "code",
   "execution_count": 46,
   "id": "07616fdd",
   "metadata": {},
   "outputs": [],
   "source": [
    "price.reset_index(inplace=True)"
   ]
  },
  {
   "cell_type": "code",
   "execution_count": 47,
   "id": "4bc99d21",
   "metadata": {},
   "outputs": [],
   "source": [
    "price['date_str'] = price['Date'].apply(lambda x: x.date().strftime('%Y-%m-%d'))"
   ]
  },
  {
   "cell_type": "code",
   "execution_count": 62,
   "id": "b9cbd931",
   "metadata": {},
   "outputs": [],
   "source": [
    "nan_df = all_news_df[~all_news_df['content'].isna()]"
   ]
  },
  {
   "cell_type": "code",
   "execution_count": 50,
   "id": "ebf70b3b",
   "metadata": {},
   "outputs": [
    {
     "data": {
      "text/plain": [
       "78"
      ]
     },
     "execution_count": 50,
     "metadata": {},
     "output_type": "execute_result"
    }
   ],
   "source": [
    "len(all_news_df[~all_news_df['content'].isna()])"
   ]
  },
  {
   "cell_type": "code",
   "execution_count": 51,
   "id": "9511721b",
   "metadata": {},
   "outputs": [
    {
     "data": {
      "text/plain": [
       "2761"
      ]
     },
     "execution_count": 51,
     "metadata": {},
     "output_type": "execute_result"
    }
   ],
   "source": [
    "len(all_news_df)"
   ]
  },
  {
   "cell_type": "code",
   "execution_count": 57,
   "id": "17aabbc6",
   "metadata": {},
   "outputs": [
    {
     "data": {
      "text/plain": [
       "0       False\n",
       "1       False\n",
       "2       False\n",
       "3       False\n",
       "4       False\n",
       "        ...  \n",
       "2756     True\n",
       "2757     True\n",
       "2758     True\n",
       "2759     True\n",
       "2760     True\n",
       "Name: content, Length: 2761, dtype: bool"
      ]
     },
     "execution_count": 57,
     "metadata": {},
     "output_type": "execute_result"
    }
   ],
   "source": [
    "all_news_df.content.isna()"
   ]
  },
  {
   "cell_type": "code",
   "execution_count": null,
   "id": "902213cc",
   "metadata": {},
   "outputs": [],
   "source": []
  }
 ],
 "metadata": {
  "kernelspec": {
   "display_name": "Python 3 (ipykernel)",
   "language": "python",
   "name": "python3"
  },
  "language_info": {
   "codemirror_mode": {
    "name": "ipython",
    "version": 3
   },
   "file_extension": ".py",
   "mimetype": "text/x-python",
   "name": "python",
   "nbconvert_exporter": "python",
   "pygments_lexer": "ipython3",
   "version": "3.11.5"
  }
 },
 "nbformat": 4,
 "nbformat_minor": 5
}
