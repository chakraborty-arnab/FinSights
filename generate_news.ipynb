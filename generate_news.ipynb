{
 "cells": [
  {
   "cell_type": "code",
   "execution_count": 25,
   "id": "99d4b2d1",
   "metadata": {},
   "outputs": [],
   "source": [
    "from utils.news import get_news, get_url_content\n",
    "from datetime import datetime, timedelta\n",
    "import pandas as pd\n",
    "from tqdm import tqdm"
   ]
  },
  {
   "cell_type": "code",
   "execution_count": 22,
   "id": "0dc629a6",
   "metadata": {},
   "outputs": [],
   "source": [
    "# Parameters\n",
    "symbol = \"NVDA\"  \n",
    "start_date = \"2024-01-02\"\n",
    "end_date = \"2024-08-13\"\n",
    "news_duration = 1"
   ]
  },
  {
   "cell_type": "code",
   "execution_count": 23,
   "id": "54095a54",
   "metadata": {},
   "outputs": [],
   "source": [
    "all_news_df = pd.DataFrame()\n",
    "\n",
    "current_date = datetime.strptime(start_date, \"%Y-%m-%d\")\n",
    "end_date = datetime.strptime(end_date, \"%Y-%m-%d\")\n",
    "\n",
    "total_days = (end_date - current_date).days + 1"
   ]
  },
  {
   "cell_type": "code",
   "execution_count": 26,
   "id": "83d57a44",
   "metadata": {},
   "outputs": [
    {
     "name": "stderr",
     "output_type": "stream",
     "text": [
      "Fetching news: 100%|██████████████████████████| 225/225 [08:52<00:00,  2.37s/it]\n"
     ]
    }
   ],
   "source": [
    "# Iterate from start_date to end_date with progress bar\n",
    "for _ in tqdm(range(total_days), desc=\"Fetching news\"):\n",
    "    date_str = current_date.strftime(\"%Y-%m-%d\")\n",
    "    \n",
    "    # Fetch news for the current date\n",
    "    df = get_news(symbol, date_str, news_duration)\n",
    "    \n",
    "    if not df.empty:\n",
    "        df = df[df['symbols'].apply(lambda x: symbol in x)]\n",
    "        \n",
    "        df['date'] = pd.to_datetime(df['updated_at'], format='%Y-%m-%dT%H:%M:%SZ', utc=True)\n",
    "        df['symbol'] = symbol\n",
    "        \n",
    "        # Extract topics and content\n",
    "        df['topic'], df['content'] = zip(*[get_url_content(url) for url in df['url'].values])\n",
    "        \n",
    "        # Append the current day's news to the overall DataFrame\n",
    "        all_news_df = pd.concat([all_news_df, df], ignore_index=True)\n",
    "    \n",
    "    # Move to the next day\n",
    "    current_date += timedelta(days=1)"
   ]
  },
  {
   "cell_type": "code",
   "execution_count": 34,
   "id": "05d41f8f",
   "metadata": {},
   "outputs": [],
   "source": [
    "file_name = 'data/' + symbol + '_news_content.csv'"
   ]
  },
  {
   "cell_type": "code",
   "execution_count": 35,
   "id": "79e4976c",
   "metadata": {},
   "outputs": [
    {
     "data": {
      "text/plain": [
       "'data/NVDA_news_content.csv'"
      ]
     },
     "execution_count": 35,
     "metadata": {},
     "output_type": "execute_result"
    }
   ],
   "source": [
    "file_name"
   ]
  },
  {
   "cell_type": "code",
   "execution_count": 36,
   "id": "e6e2b272",
   "metadata": {},
   "outputs": [],
   "source": [
    "all_news_df.to_csv(file_name, index=False)"
   ]
  },
  {
   "cell_type": "code",
   "execution_count": 30,
   "id": "df2c7303",
   "metadata": {},
   "outputs": [
    {
     "data": {
      "text/plain": [
       "2761"
      ]
     },
     "execution_count": 30,
     "metadata": {},
     "output_type": "execute_result"
    }
   ],
   "source": [
    "all_news_df.created_at.nunique()"
   ]
  }
 ],
 "metadata": {
  "kernelspec": {
   "display_name": "Python 3 (ipykernel)",
   "language": "python",
   "name": "python3"
  },
  "language_info": {
   "codemirror_mode": {
    "name": "ipython",
    "version": 3
   },
   "file_extension": ".py",
   "mimetype": "text/x-python",
   "name": "python",
   "nbconvert_exporter": "python",
   "pygments_lexer": "ipython3",
   "version": "3.11.5"
  }
 },
 "nbformat": 4,
 "nbformat_minor": 5
}
