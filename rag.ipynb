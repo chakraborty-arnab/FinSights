{
 "cells": [
  {
   "cell_type": "code",
   "execution_count": 35,
   "id": "5ecc7456",
   "metadata": {},
   "outputs": [],
   "source": [
    "from utils.news import get_news, get_url_content\n",
    "from utils.price import get_price\n",
    "from utils.llms import generate_impact_summary, generate_overall_summary, get_trading_recommendation, summarize\n",
    "from sentence_transformers import SentenceTransformer\n",
    "import pandas as pd\n",
    "import numpy as np\n",
    "import faiss\n",
    "from tqdm import tqdm"
   ]
  },
  {
   "cell_type": "code",
   "execution_count": 36,
   "id": "d1a34999",
   "metadata": {},
   "outputs": [],
   "source": [
    "stock = \"Nvidia\"\n",
    "symbol = \"NVDA\"  \n",
    "date = \"2024-08-14\"\n",
    "news_duration = 2\n",
    "price_duration = 7\n",
    "sector_info='''Nvidia operates in the semiconductor industry, specializing in the design and manufacture of graphics processing units (GPUs) for gaming, professional visualization, data centers, AI, and automotive applications. \n",
    "Known for its GeForce brand, Nvidia leads the gaming market while also providing high-performance solutions for AI and machine learning in data centers. \n",
    "Additionally, Nvidia's DRIVE platform supports autonomous vehicle technology, and its Jetson platform powers edge computing and IoT devices. \n",
    "The company's innovations position it at the forefront of emerging trends in AI, data processing, and autonomous driving, driving significant growth and industry influence.\n",
    "'''"
   ]
  },
  {
   "cell_type": "code",
   "execution_count": 37,
   "id": "14a318fa",
   "metadata": {},
   "outputs": [],
   "source": [
    "news_df = get_news(symbol, date, news_duration)"
   ]
  },
  {
   "cell_type": "code",
   "execution_count": 38,
   "id": "eb2184d3",
   "metadata": {},
   "outputs": [],
   "source": [
    "filtered_news_df = news_df[news_df['symbols'].apply(lambda x: symbol in x)]"
   ]
  },
  {
   "cell_type": "code",
   "execution_count": 32,
   "id": "d1a614a5",
   "metadata": {},
   "outputs": [
    {
     "name": "stderr",
     "output_type": "stream",
     "text": [
      "100%|███████████████████████████████████████████| 15/15 [00:15<00:00,  1.02s/it]\n"
     ]
    }
   ],
   "source": [
    "url_list = filtered_news_df['url'].values.tolist()\n",
    "topic_list=[]\n",
    "content_list=[]\n",
    "for url in tqdm(url_list):\n",
    "    topic, content = get_url_content(url)    \n",
    "    topic_list.append(topic)\n",
    "    content_list.append(content) "
   ]
  },
  {
   "cell_type": "code",
   "execution_count": 33,
   "id": "61d6161a",
   "metadata": {},
   "outputs": [],
   "source": [
    "filtered_news_df['topic'] = topic_list\n",
    "filtered_news_df['content'] = content_list"
   ]
  },
  {
   "cell_type": "code",
   "execution_count": 34,
   "id": "e33610ce",
   "metadata": {},
   "outputs": [],
   "source": [
    "filtered_news_df.to_csv('data/news_content.csv',index=False)"
   ]
  },
  {
   "cell_type": "code",
   "execution_count": 3,
   "id": "50e29c9d",
   "metadata": {},
   "outputs": [],
   "source": [
    "filtered_news_df = pd.read_csv('data/news_content.csv')"
   ]
  },
  {
   "cell_type": "code",
   "execution_count": 4,
   "id": "2ac222fd",
   "metadata": {},
   "outputs": [],
   "source": [
    "# Load the embedding model\n",
    "model = SentenceTransformer('all-MiniLM-L6-v2')"
   ]
  },
  {
   "cell_type": "code",
   "execution_count": 5,
   "id": "73ac4714",
   "metadata": {},
   "outputs": [
    {
     "name": "stdout",
     "output_type": "stream",
     "text": [
      "(13, 384)\n"
     ]
    }
   ],
   "source": [
    "embeddings = model.encode(filtered_news_df.content.values)\n",
    "print(embeddings.shape)"
   ]
  },
  {
   "cell_type": "code",
   "execution_count": 6,
   "id": "6a5562c4",
   "metadata": {},
   "outputs": [],
   "source": [
    "embeddings_np = np.array(embeddings).astype('float32')\n",
    "\n",
    "# Create a FAISS index\n",
    "dimension = embeddings_np.shape[1]\n",
    "index = faiss.IndexFlatL2(dimension)\n",
    "\n",
    "# Add vectors to the index\n",
    "index.add(embeddings_np)\n",
    "\n",
    "# Save the index to a file\n",
    "faiss.write_index(index, \"data/news_content_index.faiss\")"
   ]
  },
  {
   "cell_type": "code",
   "execution_count": 7,
   "id": "19d4fd87",
   "metadata": {},
   "outputs": [],
   "source": [
    "# # Load the FAISS index\n",
    "# index = faiss.read_index(\"database/pdf_sections_index.faiss\")\n",
    "\n",
    "# # Load the embedding model\n",
    "# model = SentenceTransformer('all-MiniLM-L6-v2')"
   ]
  },
  {
   "cell_type": "code",
   "execution_count": 8,
   "id": "dc61543e",
   "metadata": {},
   "outputs": [],
   "source": [
    "def search_faiss(query, k=5):\n",
    "    query_vector = model.encode([query])[0].astype('float32')\n",
    "    query_vector = np.expand_dims(query_vector, axis=0)\n",
    "    distances, indices = index.search(query_vector, k)\n",
    "    return distances, indices"
   ]
  },
  {
   "cell_type": "code",
   "execution_count": 9,
   "id": "fae9a1b7",
   "metadata": {},
   "outputs": [],
   "source": [
    "# Example usage\n",
    "query = \"Which article would have the highest impact on nvidia stock price? Ticker: NVDA\""
   ]
  },
  {
   "cell_type": "code",
   "execution_count": 10,
   "id": "d7572f6c",
   "metadata": {},
   "outputs": [
    {
     "name": "stdout",
     "output_type": "stream",
     "text": [
      "Query: Which article would have the highest impact on nvidia stock price? Ticker: NVDA\n",
      "Distances: [[0.67116094 0.9870448  1.0481676  1.0679644  1.137571  ]]\n",
      "Indices: [[0 5 8 1 6]]\n"
     ]
    }
   ],
   "source": [
    "distances, indices = search_faiss(query)\n",
    "\n",
    "print(f\"Query: {query}\")\n",
    "print(f\"Distances: {distances}\")\n",
    "print(f\"Indices: {indices}\")"
   ]
  },
  {
   "cell_type": "code",
   "execution_count": 11,
   "id": "78926db1",
   "metadata": {},
   "outputs": [],
   "source": [
    "relevant_news_df = filtered_news_df[filtered_news_df.index.isin(indices[0])]"
   ]
  },
  {
   "cell_type": "code",
   "execution_count": 12,
   "id": "6cbdaebc",
   "metadata": {},
   "outputs": [
    {
     "name": "stderr",
     "output_type": "stream",
     "text": [
      "  0%|                                                     | 0/5 [00:00<?, ?it/s]/Users/arnabchakraborty/anaconda3/lib/python3.11/site-packages/langchain_core/_api/deprecation.py:139: LangChainDeprecationWarning: The class `LLMChain` was deprecated in LangChain 0.1.17 and will be removed in 1.0. Use RunnableSequence, e.g., `prompt | llm` instead.\n",
      "  warn_deprecated(\n",
      "/Users/arnabchakraborty/anaconda3/lib/python3.11/site-packages/langchain_core/_api/deprecation.py:139: LangChainDeprecationWarning: The method `Chain.run` was deprecated in langchain 0.1.0 and will be removed in 0.3.0. Use invoke instead.\n",
      "  warn_deprecated(\n",
      "100%|█████████████████████████████████████████████| 5/5 [00:41<00:00,  8.36s/it]\n"
     ]
    }
   ],
   "source": [
    "summary_list=[]\n",
    "for i in tqdm(range(len(relevant_news_df))):\n",
    "    topic = relevant_news_df.topic.values[i]\n",
    "    content = relevant_news_df.content.values[i]\n",
    "    summary = summarize(stock, topic, content)\n",
    "    summary_list.append(summary)"
   ]
  },
  {
   "cell_type": "code",
   "execution_count": 13,
   "id": "6b4716ed",
   "metadata": {},
   "outputs": [
    {
     "name": "stderr",
     "output_type": "stream",
     "text": [
      "/var/folders/04/3srmk7w95zx2fd802j47m0ww0000gn/T/ipykernel_97600/294216855.py:1: SettingWithCopyWarning: \n",
      "A value is trying to be set on a copy of a slice from a DataFrame.\n",
      "Try using .loc[row_indexer,col_indexer] = value instead\n",
      "\n",
      "See the caveats in the documentation: https://pandas.pydata.org/pandas-docs/stable/user_guide/indexing.html#returning-a-view-versus-a-copy\n",
      "  relevant_news_df['summary'] = summary_list\n"
     ]
    }
   ],
   "source": [
    "relevant_news_df['summary'] = summary_list"
   ]
  },
  {
   "cell_type": "code",
   "execution_count": 17,
   "id": "33e8cf41",
   "metadata": {},
   "outputs": [
    {
     "name": "stdout",
     "output_type": "stream",
     "text": [
      "Here is a concise summary of the article focusing on Nvidia (NVDA):\n",
      "\n",
      "Nvidia shares fell over 5% in response to Advanced Micro Devices' (AMD) less-than-expected second-quarter guidance. This led to a decline in the broader chipmaking industry, with NVDA experiencing a significant price drop.\n"
     ]
    }
   ],
   "source": [
    "print(summary_list[2])"
   ]
  },
  {
   "cell_type": "code",
   "execution_count": 18,
   "id": "4fddf002",
   "metadata": {},
   "outputs": [],
   "source": [
    "overall_summary = generate_overall_summary(stock, relevant_news_df)"
   ]
  },
  {
   "cell_type": "code",
   "execution_count": 20,
   "id": "de50d41b",
   "metadata": {},
   "outputs": [
    {
     "name": "stdout",
     "output_type": "stream",
     "text": [
      "Based on the provided news items, here is a concise summary of the major key points that might impact Nvidia's stock price:\n",
      "\n",
      "Positive Factors:\n",
      "\n",
      "* The upcoming first-quarter earnings report, scheduled for May 22, has the potential to trigger Nvidia's next bullish phase. A positive report could push the stock to surpass its previous highs.\n",
      "* Nvidia's strong moat due to its intellectual property (IP) for its Graphics Processing Units (GPUs), as mentioned in Topic 4.\n",
      "\n",
      "Negative Factors:\n",
      "\n",
      "* The recent rollercoaster ride of Nvidia's stock, with a 96% bull rally followed by a 13% dip, suggests that the company is consolidating between $756 and $974. A negative earnings report could lead to a downturn.\n",
      "* Nvidia's shares fell over 5% in response to Advanced Micro Devices' (AMD) less-than-expected second-quarter guidance (Topic 2).\n",
      "* The general sentiment towards Nvidia is cautious, with money flows being negative (Topic 4).\n",
      "\n",
      "Recurring Themes/Trends:\n",
      "\n",
      "* The importance of Nvidia's earnings report and its potential impact on the stock price.\n",
      "* The company's strong moat due to its intellectual property (IP) for its Graphics Processing Units (GPUs).\n",
      "* The volatility of Nvidia's stock, as seen in the recent rollercoaster ride.\n",
      "\n",
      "Upcoming Events/Announcements:\n",
      "\n",
      "* First-quarter earnings report scheduled for May 22.\n",
      "\n",
      "General Sentiment:\n",
      "\n",
      "* Overall, the general sentiment towards Nvidia is cautious, with investors advised to exercise patience and vigilance in monitoring key support and resistance levels. The company's strong moat and potential for a positive earnings report provide some optimism, but the recent volatility and negative market trends should be taken into consideration.\n"
     ]
    }
   ],
   "source": [
    "print(overall_summary)"
   ]
  },
  {
   "cell_type": "code",
   "execution_count": 21,
   "id": "da269272",
   "metadata": {},
   "outputs": [
    {
     "name": "stdout",
     "output_type": "stream",
     "text": [
      "[*********************100%%**********************]  1 of 1 completed\n"
     ]
    }
   ],
   "source": [
    "price = get_price(symbol, date, price_duration)\n",
    "table_string = price.to_string(index=False)"
   ]
  },
  {
   "cell_type": "code",
   "execution_count": 25,
   "id": "3e29d288",
   "metadata": {},
   "outputs": [],
   "source": [
    "trade_recommendation = get_trading_recommendation(sector_info, date, table_string, overall_summary)"
   ]
  },
  {
   "cell_type": "code",
   "execution_count": 26,
   "id": "2cd786b1",
   "metadata": {},
   "outputs": [
    {
     "name": "stdout",
     "output_type": "stream",
     "text": [
      "Decision: Hold\n",
      "Reasoning:\n",
      "1. The recent stock price momentum of Nvidia is volatile, with a sharp increase followed by a dip. This suggests that the market is still adjusting to the company's performance and may not be ready for another significant upward move.\n",
      "2. While the upcoming earnings report has the potential to trigger a bullish phase, it's crucial to exercise caution given the recent volatility and negative market trends.\n",
      "3. The general sentiment towards Nvidia is cautious, indicating that investors are advising patience and vigilance in monitoring key support and resistance levels.\n",
      "\n",
      "Confidence Level: Medium\n",
      "\n",
      "I'm not confident enough to make a bold buy or sell decision given the current market trends and Nvidia's recent stock price momentum. However, I believe that holding onto the stock for now could be a prudent decision, as it allows investors to ride out any potential volatility and potentially benefit from a positive earnings report.\n"
     ]
    }
   ],
   "source": [
    "print(trade_recommendation)"
   ]
  },
  {
   "cell_type": "code",
   "execution_count": null,
   "id": "2d3589a1",
   "metadata": {},
   "outputs": [],
   "source": []
  }
 ],
 "metadata": {
  "kernelspec": {
   "display_name": "Python 3 (ipykernel)",
   "language": "python",
   "name": "python3"
  },
  "language_info": {
   "codemirror_mode": {
    "name": "ipython",
    "version": 3
   },
   "file_extension": ".py",
   "mimetype": "text/x-python",
   "name": "python",
   "nbconvert_exporter": "python",
   "pygments_lexer": "ipython3",
   "version": "3.11.5"
  }
 },
 "nbformat": 4,
 "nbformat_minor": 5
}
