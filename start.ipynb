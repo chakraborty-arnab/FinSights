{
 "cells": [
  {
   "cell_type": "code",
   "execution_count": 28,
   "id": "89fe3eae",
   "metadata": {},
   "outputs": [],
   "source": [
    "# pip install alpaca-trade-api"
   ]
  },
  {
   "cell_type": "code",
   "execution_count": 30,
   "id": "ad3f4a51",
   "metadata": {},
   "outputs": [],
   "source": [
    "# pip install alpaca-py"
   ]
  },
  {
   "cell_type": "code",
   "execution_count": 70,
   "id": "45a2c110",
   "metadata": {},
   "outputs": [],
   "source": [
    "# pip install newsapi-python"
   ]
  },
  {
   "cell_type": "code",
   "execution_count": 111,
   "id": "e58ee2b8",
   "metadata": {},
   "outputs": [],
   "source": [
    "from newsapi import NewsApiClient\n",
    "import requests\n",
    "from bs4 import BeautifulSoup\n",
    "import pytz\n",
    "from datetime import datetime\n",
    "import time"
   ]
  },
  {
   "cell_type": "code",
   "execution_count": null,
   "id": "cbc8133d",
   "metadata": {},
   "outputs": [],
   "source": [
    "# Initialize NewsApiClient with your News API key\n",
    "newsapi = NewsApiClient(api_key='')"
   ]
  },
  {
   "cell_type": "code",
   "execution_count": 190,
   "id": "24984206",
   "metadata": {},
   "outputs": [],
   "source": [
    "# Define the query parameters\n",
    "query = 'Nvidia'\n",
    "language = 'en'\n",
    "sort_by = 'relevancy'\n",
    "country='us'\n"
   ]
  },
  {
   "cell_type": "code",
   "execution_count": 208,
   "id": "2210322e",
   "metadata": {},
   "outputs": [],
   "source": [
    "# Fetch news articles\n",
    "news_articles = newsapi.get_everything(q=query, language=language, sort_by=sort_by, from_param='2024-06-30',\n",
    "                                      to='2024-07-30')"
   ]
  },
  {
   "cell_type": "code",
   "execution_count": 209,
   "id": "579e5111",
   "metadata": {},
   "outputs": [
    {
     "data": {
      "text/plain": [
       "100"
      ]
     },
     "execution_count": 209,
     "metadata": {},
     "output_type": "execute_result"
    }
   ],
   "source": [
    "len(news_articles['articles'])"
   ]
  },
  {
   "cell_type": "code",
   "execution_count": 222,
   "id": "b3da6689",
   "metadata": {},
   "outputs": [],
   "source": [
    "article_title = []\n",
    "url_list = []\n",
    "date_list = []\n",
    "content_list = []\n",
    "for i in range(len(news_articles['articles'])):\n",
    "    article_title.append(news_articles['articles'][i]['title'])\n",
    "    url_list.append(news_articles['articles'][i]['url'])\n",
    "    date_list.append(news_articles['articles'][i]['publishedAt'])"
   ]
  },
  {
   "cell_type": "code",
   "execution_count": 227,
   "id": "d6f1b87e",
   "metadata": {},
   "outputs": [],
   "source": [
    "# Create DataFrame\n",
    "df = pd.DataFrame({\n",
    "    'Title': article_title,\n",
    "    'URL': url_list,\n",
    "    'publishedAt': date_list,\n",
    "})"
   ]
  },
  {
   "cell_type": "code",
   "execution_count": 229,
   "id": "18a371fd",
   "metadata": {},
   "outputs": [],
   "source": [
    "df['date'] = pd.to_datetime(df['publishedAt'], format='%Y-%m-%dT%H:%M:%SZ', utc=True)"
   ]
  },
  {
   "cell_type": "code",
   "execution_count": 238,
   "id": "e662098a",
   "metadata": {},
   "outputs": [],
   "source": [
    "df = df[df.Title!='[Removed]'].sort_values('date')"
   ]
  },
  {
   "cell_type": "code",
   "execution_count": 247,
   "id": "595e8104",
   "metadata": {},
   "outputs": [
    {
     "data": {
      "text/html": [
       "<div>\n",
       "<style scoped>\n",
       "    .dataframe tbody tr th:only-of-type {\n",
       "        vertical-align: middle;\n",
       "    }\n",
       "\n",
       "    .dataframe tbody tr th {\n",
       "        vertical-align: top;\n",
       "    }\n",
       "\n",
       "    .dataframe thead th {\n",
       "        text-align: right;\n",
       "    }\n",
       "</style>\n",
       "<table border=\"1\" class=\"dataframe\">\n",
       "  <thead>\n",
       "    <tr style=\"text-align: right;\">\n",
       "      <th></th>\n",
       "      <th>Title</th>\n",
       "      <th>URL</th>\n",
       "      <th>publishedAt</th>\n",
       "      <th>date</th>\n",
       "    </tr>\n",
       "  </thead>\n",
       "  <tbody>\n",
       "    <tr>\n",
       "      <th>40</th>\n",
       "      <td>Elon Musk's now lauding Jensen Huang for havin...</td>\n",
       "      <td>https://www.businessinsider.com/elon-musk-prai...</td>\n",
       "      <td>2024-07-01T06:32:09Z</td>\n",
       "      <td>2024-07-01 06:32:09+00:00</td>\n",
       "    </tr>\n",
       "    <tr>\n",
       "      <th>44</th>\n",
       "      <td>Zacks Investment Ideas feature highlights: Nvi...</td>\n",
       "      <td>https://consent.yahoo.com/v2/collectConsent?se...</td>\n",
       "      <td>2024-07-01T12:48:00Z</td>\n",
       "      <td>2024-07-01 12:48:00+00:00</td>\n",
       "    </tr>\n",
       "    <tr>\n",
       "      <th>79</th>\n",
       "      <td>Exclusive-Nvidia set to face French antitrust ...</td>\n",
       "      <td>https://consent.yahoo.com/v2/collectConsent?se...</td>\n",
       "      <td>2024-07-01T14:49:44Z</td>\n",
       "      <td>2024-07-01 14:49:44+00:00</td>\n",
       "    </tr>\n",
       "    <tr>\n",
       "      <th>7</th>\n",
       "      <td>French Antitrust Regulators Preparing Nvidia C...</td>\n",
       "      <td>https://slashdot.org/story/24/07/01/1528252/fr...</td>\n",
       "      <td>2024-07-01T15:28:00Z</td>\n",
       "      <td>2024-07-01 15:28:00+00:00</td>\n",
       "    </tr>\n",
       "    <tr>\n",
       "      <th>80</th>\n",
       "      <td>Best gaming laptop 4th of July deals</td>\n",
       "      <td>https://www.digitaltrends.com/computing/gaming...</td>\n",
       "      <td>2024-07-01T16:00:27Z</td>\n",
       "      <td>2024-07-01 16:00:27+00:00</td>\n",
       "    </tr>\n",
       "    <tr>\n",
       "      <th>...</th>\n",
       "      <td>...</td>\n",
       "      <td>...</td>\n",
       "      <td>...</td>\n",
       "      <td>...</td>\n",
       "    </tr>\n",
       "    <tr>\n",
       "      <th>94</th>\n",
       "      <td>The Morning After: Mark Zuckerberg is surprisi...</td>\n",
       "      <td>https://consent.yahoo.com/v2/collectConsent?se...</td>\n",
       "      <td>2024-07-30T11:57:16Z</td>\n",
       "      <td>2024-07-30 11:57:16+00:00</td>\n",
       "    </tr>\n",
       "    <tr>\n",
       "      <th>36</th>\n",
       "      <td>Apple Used Google Tensor Chips to Develop Appl...</td>\n",
       "      <td>https://www.macrumors.com/2024/07/30/google-ch...</td>\n",
       "      <td>2024-07-30T12:56:09Z</td>\n",
       "      <td>2024-07-30 12:56:09+00:00</td>\n",
       "    </tr>\n",
       "    <tr>\n",
       "      <th>14</th>\n",
       "      <td>Zuckerberg’s Vision of the Future: A Poorly Re...</td>\n",
       "      <td>https://gizmodo.com/zuckerbergs-vision-of-the-...</td>\n",
       "      <td>2024-07-30T14:40:41Z</td>\n",
       "      <td>2024-07-30 14:40:41+00:00</td>\n",
       "    </tr>\n",
       "    <tr>\n",
       "      <th>39</th>\n",
       "      <td>We just learned something surprising about how...</td>\n",
       "      <td>https://www.digitaltrends.com/computing/apple-...</td>\n",
       "      <td>2024-07-30T18:06:54Z</td>\n",
       "      <td>2024-07-30 18:06:54+00:00</td>\n",
       "    </tr>\n",
       "    <tr>\n",
       "      <th>9</th>\n",
       "      <td>Apple appears to have just shunned Nvidia again</td>\n",
       "      <td>https://www.businessinsider.com/apple-appears-...</td>\n",
       "      <td>2024-07-30T20:01:28Z</td>\n",
       "      <td>2024-07-30 20:01:28+00:00</td>\n",
       "    </tr>\n",
       "  </tbody>\n",
       "</table>\n",
       "<p>98 rows × 4 columns</p>\n",
       "</div>"
      ],
      "text/plain": [
       "                                                Title  \\\n",
       "40  Elon Musk's now lauding Jensen Huang for havin...   \n",
       "44  Zacks Investment Ideas feature highlights: Nvi...   \n",
       "79  Exclusive-Nvidia set to face French antitrust ...   \n",
       "7   French Antitrust Regulators Preparing Nvidia C...   \n",
       "80               Best gaming laptop 4th of July deals   \n",
       "..                                                ...   \n",
       "94  The Morning After: Mark Zuckerberg is surprisi...   \n",
       "36  Apple Used Google Tensor Chips to Develop Appl...   \n",
       "14  Zuckerberg’s Vision of the Future: A Poorly Re...   \n",
       "39  We just learned something surprising about how...   \n",
       "9     Apple appears to have just shunned Nvidia again   \n",
       "\n",
       "                                                  URL           publishedAt  \\\n",
       "40  https://www.businessinsider.com/elon-musk-prai...  2024-07-01T06:32:09Z   \n",
       "44  https://consent.yahoo.com/v2/collectConsent?se...  2024-07-01T12:48:00Z   \n",
       "79  https://consent.yahoo.com/v2/collectConsent?se...  2024-07-01T14:49:44Z   \n",
       "7   https://slashdot.org/story/24/07/01/1528252/fr...  2024-07-01T15:28:00Z   \n",
       "80  https://www.digitaltrends.com/computing/gaming...  2024-07-01T16:00:27Z   \n",
       "..                                                ...                   ...   \n",
       "94  https://consent.yahoo.com/v2/collectConsent?se...  2024-07-30T11:57:16Z   \n",
       "36  https://www.macrumors.com/2024/07/30/google-ch...  2024-07-30T12:56:09Z   \n",
       "14  https://gizmodo.com/zuckerbergs-vision-of-the-...  2024-07-30T14:40:41Z   \n",
       "39  https://www.digitaltrends.com/computing/apple-...  2024-07-30T18:06:54Z   \n",
       "9   https://www.businessinsider.com/apple-appears-...  2024-07-30T20:01:28Z   \n",
       "\n",
       "                        date  \n",
       "40 2024-07-01 06:32:09+00:00  \n",
       "44 2024-07-01 12:48:00+00:00  \n",
       "79 2024-07-01 14:49:44+00:00  \n",
       "7  2024-07-01 15:28:00+00:00  \n",
       "80 2024-07-01 16:00:27+00:00  \n",
       "..                       ...  \n",
       "94 2024-07-30 11:57:16+00:00  \n",
       "36 2024-07-30 12:56:09+00:00  \n",
       "14 2024-07-30 14:40:41+00:00  \n",
       "39 2024-07-30 18:06:54+00:00  \n",
       "9  2024-07-30 20:01:28+00:00  \n",
       "\n",
       "[98 rows x 4 columns]"
      ]
     },
     "execution_count": 247,
     "metadata": {},
     "output_type": "execute_result"
    }
   ],
   "source": [
    "df.Title"
   ]
  },
  {
   "cell_type": "code",
   "execution_count": 248,
   "id": "71a7d415",
   "metadata": {},
   "outputs": [
    {
     "name": "stderr",
     "output_type": "stream",
     "text": [
      "/Users/arnabchakraborty/anaconda3/lib/python3.11/site-packages/sentence_transformers/cross_encoder/CrossEncoder.py:11: TqdmExperimentalWarning: Using `tqdm.autonotebook.tqdm` in notebook mode. Use `tqdm.tqdm` instead to force console mode (e.g. in jupyter console)\n",
      "  from tqdm.autonotebook import tqdm, trange\n"
     ]
    }
   ],
   "source": [
    "import pandas as pd\n",
    "import numpy as np\n",
    "from sentence_transformers import SentenceTransformer\n",
    "from sklearn.metrics.pairwise import cosine_similarity"
   ]
  },
  {
   "cell_type": "code",
   "execution_count": 249,
   "id": "414e4234",
   "metadata": {},
   "outputs": [],
   "source": [
    "# Initialize the Sentence Transformer model\n",
    "model = SentenceTransformer('all-MiniLM-L6-v2')"
   ]
  },
  {
   "cell_type": "code",
   "execution_count": 250,
   "id": "b9a0a0cd",
   "metadata": {},
   "outputs": [],
   "source": [
    "# Encode the titles\n",
    "embeddings = model.encode(df['Title'].tolist())"
   ]
  },
  {
   "cell_type": "code",
   "execution_count": 251,
   "id": "3d8289f3",
   "metadata": {},
   "outputs": [],
   "source": [
    "# Calculate cosine similarity\n",
    "similarity_matrix = cosine_similarity(embeddings)"
   ]
  },
  {
   "cell_type": "code",
   "execution_count": 272,
   "id": "996fb6e1",
   "metadata": {},
   "outputs": [],
   "source": [
    "threshold = 0.75  # You can adjust this value"
   ]
  },
  {
   "cell_type": "code",
   "execution_count": 273,
   "id": "7db038fe",
   "metadata": {},
   "outputs": [],
   "source": [
    "# Function to find groups of similar titles\n",
    "def find_similar_groups(similarity_matrix, threshold):\n",
    "    groups = []\n",
    "    n = similarity_matrix.shape[0]\n",
    "    used = set()\n",
    "    \n",
    "    for i in range(n):\n",
    "        if i not in used:\n",
    "            group = [i]\n",
    "            used.add(i)\n",
    "            for j in range(i+1, n):\n",
    "                if j not in used and similarity_matrix[i, j] > threshold:\n",
    "                    group.append(j)\n",
    "                    used.add(j)\n",
    "            groups.append(group)\n",
    "    \n",
    "    return groups"
   ]
  },
  {
   "cell_type": "code",
   "execution_count": 274,
   "id": "8c4cfdfa",
   "metadata": {},
   "outputs": [],
   "source": [
    "# Find groups of similar titles\n",
    "similar_groups = find_similar_groups(similarity_matrix, threshold)\n",
    "\n",
    "# Keep only the first title from each group\n",
    "indices_to_keep = [group[0] for group in similar_groups]\n",
    "\n",
    "# Create a new dataframe with only the unique titles\n",
    "df_unique = df.iloc[indices_to_keep].reset_index(drop=True)"
   ]
  },
  {
   "cell_type": "code",
   "execution_count": 275,
   "id": "ef2242a1",
   "metadata": {},
   "outputs": [
    {
     "data": {
      "text/html": [
       "<div>\n",
       "<style scoped>\n",
       "    .dataframe tbody tr th:only-of-type {\n",
       "        vertical-align: middle;\n",
       "    }\n",
       "\n",
       "    .dataframe tbody tr th {\n",
       "        vertical-align: top;\n",
       "    }\n",
       "\n",
       "    .dataframe thead th {\n",
       "        text-align: right;\n",
       "    }\n",
       "</style>\n",
       "<table border=\"1\" class=\"dataframe\">\n",
       "  <thead>\n",
       "    <tr style=\"text-align: right;\">\n",
       "      <th></th>\n",
       "      <th>Title</th>\n",
       "      <th>URL</th>\n",
       "      <th>publishedAt</th>\n",
       "      <th>date</th>\n",
       "    </tr>\n",
       "  </thead>\n",
       "  <tbody>\n",
       "    <tr>\n",
       "      <th>0</th>\n",
       "      <td>Elon Musk's now lauding Jensen Huang for havin...</td>\n",
       "      <td>https://www.businessinsider.com/elon-musk-prai...</td>\n",
       "      <td>2024-07-01T06:32:09Z</td>\n",
       "      <td>2024-07-01 06:32:09+00:00</td>\n",
       "    </tr>\n",
       "    <tr>\n",
       "      <th>1</th>\n",
       "      <td>Zacks Investment Ideas feature highlights: Nvi...</td>\n",
       "      <td>https://consent.yahoo.com/v2/collectConsent?se...</td>\n",
       "      <td>2024-07-01T12:48:00Z</td>\n",
       "      <td>2024-07-01 12:48:00+00:00</td>\n",
       "    </tr>\n",
       "    <tr>\n",
       "      <th>2</th>\n",
       "      <td>Exclusive-Nvidia set to face French antitrust ...</td>\n",
       "      <td>https://consent.yahoo.com/v2/collectConsent?se...</td>\n",
       "      <td>2024-07-01T14:49:44Z</td>\n",
       "      <td>2024-07-01 14:49:44+00:00</td>\n",
       "    </tr>\n",
       "    <tr>\n",
       "      <th>3</th>\n",
       "      <td>Best gaming laptop 4th of July deals</td>\n",
       "      <td>https://www.digitaltrends.com/computing/gaming...</td>\n",
       "      <td>2024-07-01T16:00:27Z</td>\n",
       "      <td>2024-07-01 16:00:27+00:00</td>\n",
       "    </tr>\n",
       "    <tr>\n",
       "      <th>4</th>\n",
       "      <td>Elon Musk gives a hint at just how much his AI...</td>\n",
       "      <td>https://www.businessinsider.com/elon-musk-hint...</td>\n",
       "      <td>2024-07-01T16:18:48Z</td>\n",
       "      <td>2024-07-01 16:18:48+00:00</td>\n",
       "    </tr>\n",
       "    <tr>\n",
       "      <th>...</th>\n",
       "      <td>...</td>\n",
       "      <td>...</td>\n",
       "      <td>...</td>\n",
       "      <td>...</td>\n",
       "    </tr>\n",
       "    <tr>\n",
       "      <th>80</th>\n",
       "      <td>The Morning After: Mark Zuckerberg is surprisi...</td>\n",
       "      <td>https://consent.yahoo.com/v2/collectConsent?se...</td>\n",
       "      <td>2024-07-30T11:57:16Z</td>\n",
       "      <td>2024-07-30 11:57:16+00:00</td>\n",
       "    </tr>\n",
       "    <tr>\n",
       "      <th>81</th>\n",
       "      <td>Apple Used Google Tensor Chips to Develop Appl...</td>\n",
       "      <td>https://www.macrumors.com/2024/07/30/google-ch...</td>\n",
       "      <td>2024-07-30T12:56:09Z</td>\n",
       "      <td>2024-07-30 12:56:09+00:00</td>\n",
       "    </tr>\n",
       "    <tr>\n",
       "      <th>82</th>\n",
       "      <td>Zuckerberg’s Vision of the Future: A Poorly Re...</td>\n",
       "      <td>https://gizmodo.com/zuckerbergs-vision-of-the-...</td>\n",
       "      <td>2024-07-30T14:40:41Z</td>\n",
       "      <td>2024-07-30 14:40:41+00:00</td>\n",
       "    </tr>\n",
       "    <tr>\n",
       "      <th>83</th>\n",
       "      <td>We just learned something surprising about how...</td>\n",
       "      <td>https://www.digitaltrends.com/computing/apple-...</td>\n",
       "      <td>2024-07-30T18:06:54Z</td>\n",
       "      <td>2024-07-30 18:06:54+00:00</td>\n",
       "    </tr>\n",
       "    <tr>\n",
       "      <th>84</th>\n",
       "      <td>Apple appears to have just shunned Nvidia again</td>\n",
       "      <td>https://www.businessinsider.com/apple-appears-...</td>\n",
       "      <td>2024-07-30T20:01:28Z</td>\n",
       "      <td>2024-07-30 20:01:28+00:00</td>\n",
       "    </tr>\n",
       "  </tbody>\n",
       "</table>\n",
       "<p>85 rows × 4 columns</p>\n",
       "</div>"
      ],
      "text/plain": [
       "                                                Title  \\\n",
       "0   Elon Musk's now lauding Jensen Huang for havin...   \n",
       "1   Zacks Investment Ideas feature highlights: Nvi...   \n",
       "2   Exclusive-Nvidia set to face French antitrust ...   \n",
       "3                Best gaming laptop 4th of July deals   \n",
       "4   Elon Musk gives a hint at just how much his AI...   \n",
       "..                                                ...   \n",
       "80  The Morning After: Mark Zuckerberg is surprisi...   \n",
       "81  Apple Used Google Tensor Chips to Develop Appl...   \n",
       "82  Zuckerberg’s Vision of the Future: A Poorly Re...   \n",
       "83  We just learned something surprising about how...   \n",
       "84    Apple appears to have just shunned Nvidia again   \n",
       "\n",
       "                                                  URL           publishedAt  \\\n",
       "0   https://www.businessinsider.com/elon-musk-prai...  2024-07-01T06:32:09Z   \n",
       "1   https://consent.yahoo.com/v2/collectConsent?se...  2024-07-01T12:48:00Z   \n",
       "2   https://consent.yahoo.com/v2/collectConsent?se...  2024-07-01T14:49:44Z   \n",
       "3   https://www.digitaltrends.com/computing/gaming...  2024-07-01T16:00:27Z   \n",
       "4   https://www.businessinsider.com/elon-musk-hint...  2024-07-01T16:18:48Z   \n",
       "..                                                ...                   ...   \n",
       "80  https://consent.yahoo.com/v2/collectConsent?se...  2024-07-30T11:57:16Z   \n",
       "81  https://www.macrumors.com/2024/07/30/google-ch...  2024-07-30T12:56:09Z   \n",
       "82  https://gizmodo.com/zuckerbergs-vision-of-the-...  2024-07-30T14:40:41Z   \n",
       "83  https://www.digitaltrends.com/computing/apple-...  2024-07-30T18:06:54Z   \n",
       "84  https://www.businessinsider.com/apple-appears-...  2024-07-30T20:01:28Z   \n",
       "\n",
       "                        date  \n",
       "0  2024-07-01 06:32:09+00:00  \n",
       "1  2024-07-01 12:48:00+00:00  \n",
       "2  2024-07-01 14:49:44+00:00  \n",
       "3  2024-07-01 16:00:27+00:00  \n",
       "4  2024-07-01 16:18:48+00:00  \n",
       "..                       ...  \n",
       "80 2024-07-30 11:57:16+00:00  \n",
       "81 2024-07-30 12:56:09+00:00  \n",
       "82 2024-07-30 14:40:41+00:00  \n",
       "83 2024-07-30 18:06:54+00:00  \n",
       "84 2024-07-30 20:01:28+00:00  \n",
       "\n",
       "[85 rows x 4 columns]"
      ]
     },
     "execution_count": 275,
     "metadata": {},
     "output_type": "execute_result"
    }
   ],
   "source": [
    "df_unique"
   ]
  },
  {
   "cell_type": "code",
   "execution_count": 276,
   "id": "3b97d3f5",
   "metadata": {},
   "outputs": [
    {
     "name": "stdout",
     "output_type": "stream",
     "text": [
      "Original number of titles: 98\n",
      "Number of unique titles after removing similar ones: 85\n"
     ]
    }
   ],
   "source": [
    "# Print the results\n",
    "print(f\"Original number of titles: {len(df)}\")\n",
    "print(f\"Number of unique titles after removing similar ones: {len(df_unique)}\")"
   ]
  },
  {
   "cell_type": "code",
   "execution_count": 280,
   "id": "5955d047",
   "metadata": {},
   "outputs": [
    {
     "data": {
      "text/html": [
       "<div>\n",
       "<style scoped>\n",
       "    .dataframe tbody tr th:only-of-type {\n",
       "        vertical-align: middle;\n",
       "    }\n",
       "\n",
       "    .dataframe tbody tr th {\n",
       "        vertical-align: top;\n",
       "    }\n",
       "\n",
       "    .dataframe thead th {\n",
       "        text-align: right;\n",
       "    }\n",
       "</style>\n",
       "<table border=\"1\" class=\"dataframe\">\n",
       "  <thead>\n",
       "    <tr style=\"text-align: right;\">\n",
       "      <th></th>\n",
       "      <th>Title</th>\n",
       "      <th>URL</th>\n",
       "      <th>publishedAt</th>\n",
       "      <th>date</th>\n",
       "    </tr>\n",
       "  </thead>\n",
       "  <tbody>\n",
       "    <tr>\n",
       "      <th>40</th>\n",
       "      <td>Elon Musk's now lauding Jensen Huang for havin...</td>\n",
       "      <td>https://www.businessinsider.com/elon-musk-prai...</td>\n",
       "      <td>2024-07-01T06:32:09Z</td>\n",
       "      <td>2024-07-01 06:32:09+00:00</td>\n",
       "    </tr>\n",
       "    <tr>\n",
       "      <th>44</th>\n",
       "      <td>Zacks Investment Ideas feature highlights: Nvi...</td>\n",
       "      <td>https://consent.yahoo.com/v2/collectConsent?se...</td>\n",
       "      <td>2024-07-01T12:48:00Z</td>\n",
       "      <td>2024-07-01 12:48:00+00:00</td>\n",
       "    </tr>\n",
       "    <tr>\n",
       "      <th>79</th>\n",
       "      <td>Exclusive-Nvidia set to face French antitrust ...</td>\n",
       "      <td>https://consent.yahoo.com/v2/collectConsent?se...</td>\n",
       "      <td>2024-07-01T14:49:44Z</td>\n",
       "      <td>2024-07-01 14:49:44+00:00</td>\n",
       "    </tr>\n",
       "    <tr>\n",
       "      <th>7</th>\n",
       "      <td>French Antitrust Regulators Preparing Nvidia C...</td>\n",
       "      <td>https://slashdot.org/story/24/07/01/1528252/fr...</td>\n",
       "      <td>2024-07-01T15:28:00Z</td>\n",
       "      <td>2024-07-01 15:28:00+00:00</td>\n",
       "    </tr>\n",
       "    <tr>\n",
       "      <th>80</th>\n",
       "      <td>Best gaming laptop 4th of July deals</td>\n",
       "      <td>https://www.digitaltrends.com/computing/gaming...</td>\n",
       "      <td>2024-07-01T16:00:27Z</td>\n",
       "      <td>2024-07-01 16:00:27+00:00</td>\n",
       "    </tr>\n",
       "    <tr>\n",
       "      <th>...</th>\n",
       "      <td>...</td>\n",
       "      <td>...</td>\n",
       "      <td>...</td>\n",
       "      <td>...</td>\n",
       "    </tr>\n",
       "    <tr>\n",
       "      <th>94</th>\n",
       "      <td>The Morning After: Mark Zuckerberg is surprisi...</td>\n",
       "      <td>https://consent.yahoo.com/v2/collectConsent?se...</td>\n",
       "      <td>2024-07-30T11:57:16Z</td>\n",
       "      <td>2024-07-30 11:57:16+00:00</td>\n",
       "    </tr>\n",
       "    <tr>\n",
       "      <th>36</th>\n",
       "      <td>Apple Used Google Tensor Chips to Develop Appl...</td>\n",
       "      <td>https://www.macrumors.com/2024/07/30/google-ch...</td>\n",
       "      <td>2024-07-30T12:56:09Z</td>\n",
       "      <td>2024-07-30 12:56:09+00:00</td>\n",
       "    </tr>\n",
       "    <tr>\n",
       "      <th>14</th>\n",
       "      <td>Zuckerberg’s Vision of the Future: A Poorly Re...</td>\n",
       "      <td>https://gizmodo.com/zuckerbergs-vision-of-the-...</td>\n",
       "      <td>2024-07-30T14:40:41Z</td>\n",
       "      <td>2024-07-30 14:40:41+00:00</td>\n",
       "    </tr>\n",
       "    <tr>\n",
       "      <th>39</th>\n",
       "      <td>We just learned something surprising about how...</td>\n",
       "      <td>https://www.digitaltrends.com/computing/apple-...</td>\n",
       "      <td>2024-07-30T18:06:54Z</td>\n",
       "      <td>2024-07-30 18:06:54+00:00</td>\n",
       "    </tr>\n",
       "    <tr>\n",
       "      <th>9</th>\n",
       "      <td>Apple appears to have just shunned Nvidia again</td>\n",
       "      <td>https://www.businessinsider.com/apple-appears-...</td>\n",
       "      <td>2024-07-30T20:01:28Z</td>\n",
       "      <td>2024-07-30 20:01:28+00:00</td>\n",
       "    </tr>\n",
       "  </tbody>\n",
       "</table>\n",
       "<p>98 rows × 4 columns</p>\n",
       "</div>"
      ],
      "text/plain": [
       "                                                Title  \\\n",
       "40  Elon Musk's now lauding Jensen Huang for havin...   \n",
       "44  Zacks Investment Ideas feature highlights: Nvi...   \n",
       "79  Exclusive-Nvidia set to face French antitrust ...   \n",
       "7   French Antitrust Regulators Preparing Nvidia C...   \n",
       "80               Best gaming laptop 4th of July deals   \n",
       "..                                                ...   \n",
       "94  The Morning After: Mark Zuckerberg is surprisi...   \n",
       "36  Apple Used Google Tensor Chips to Develop Appl...   \n",
       "14  Zuckerberg’s Vision of the Future: A Poorly Re...   \n",
       "39  We just learned something surprising about how...   \n",
       "9     Apple appears to have just shunned Nvidia again   \n",
       "\n",
       "                                                  URL           publishedAt  \\\n",
       "40  https://www.businessinsider.com/elon-musk-prai...  2024-07-01T06:32:09Z   \n",
       "44  https://consent.yahoo.com/v2/collectConsent?se...  2024-07-01T12:48:00Z   \n",
       "79  https://consent.yahoo.com/v2/collectConsent?se...  2024-07-01T14:49:44Z   \n",
       "7   https://slashdot.org/story/24/07/01/1528252/fr...  2024-07-01T15:28:00Z   \n",
       "80  https://www.digitaltrends.com/computing/gaming...  2024-07-01T16:00:27Z   \n",
       "..                                                ...                   ...   \n",
       "94  https://consent.yahoo.com/v2/collectConsent?se...  2024-07-30T11:57:16Z   \n",
       "36  https://www.macrumors.com/2024/07/30/google-ch...  2024-07-30T12:56:09Z   \n",
       "14  https://gizmodo.com/zuckerbergs-vision-of-the-...  2024-07-30T14:40:41Z   \n",
       "39  https://www.digitaltrends.com/computing/apple-...  2024-07-30T18:06:54Z   \n",
       "9   https://www.businessinsider.com/apple-appears-...  2024-07-30T20:01:28Z   \n",
       "\n",
       "                        date  \n",
       "40 2024-07-01 06:32:09+00:00  \n",
       "44 2024-07-01 12:48:00+00:00  \n",
       "79 2024-07-01 14:49:44+00:00  \n",
       "7  2024-07-01 15:28:00+00:00  \n",
       "80 2024-07-01 16:00:27+00:00  \n",
       "..                       ...  \n",
       "94 2024-07-30 11:57:16+00:00  \n",
       "36 2024-07-30 12:56:09+00:00  \n",
       "14 2024-07-30 14:40:41+00:00  \n",
       "39 2024-07-30 18:06:54+00:00  \n",
       "9  2024-07-30 20:01:28+00:00  \n",
       "\n",
       "[98 rows x 4 columns]"
      ]
     },
     "execution_count": 280,
     "metadata": {},
     "output_type": "execute_result"
    }
   ],
   "source": [
    "df"
   ]
  },
  {
   "cell_type": "code",
   "execution_count": 173,
   "id": "e351653a",
   "metadata": {},
   "outputs": [
    {
     "data": {
      "text/plain": [
       "'2024-07-29T22:03:49Z'"
      ]
     },
     "execution_count": 173,
     "metadata": {},
     "output_type": "execute_result"
    }
   ],
   "source": [
    "article_list = []\n",
    "news_articles['articles'][0]['publishedAt']"
   ]
  },
  {
   "cell_type": "code",
   "execution_count": 166,
   "id": "d15fe54f",
   "metadata": {},
   "outputs": [
    {
     "data": {
      "text/plain": [
       "'Apple says it uses no Nvidia GPUs to train its AI models'"
      ]
     },
     "execution_count": 166,
     "metadata": {},
     "output_type": "execute_result"
    }
   ],
   "source": [
    "news_articles['articles'][0]['title']"
   ]
  },
  {
   "cell_type": "code",
   "execution_count": 92,
   "id": "fe20cc88",
   "metadata": {},
   "outputs": [],
   "source": [
    "date_str = news_articles['articles'][0]['publishedAt']"
   ]
  },
  {
   "cell_type": "code",
   "execution_count": 91,
   "id": "cd4a3a9a",
   "metadata": {},
   "outputs": [],
   "source": [
    "# Define the format string\n",
    "format_str = \"%Y-%m-%dT%H:%M:%SZ\""
   ]
  },
  {
   "cell_type": "code",
   "execution_count": 93,
   "id": "94f8d31d",
   "metadata": {},
   "outputs": [],
   "source": [
    "# Convert to datetime object in UTC\n",
    "date_time_utc = datetime.strptime(date_str, format_str)"
   ]
  },
  {
   "cell_type": "code",
   "execution_count": 94,
   "id": "db1febe4",
   "metadata": {},
   "outputs": [],
   "source": [
    "# Convert to datetime object in UTC\n",
    "date_time_utc = datetime.strptime(date_str, format_str)\n",
    "date_time_utc = date_time_utc.replace(tzinfo=pytz.utc)\n",
    "\n",
    "# Convert to Eastern Time\n",
    "eastern = pytz.timezone('US/Eastern')\n",
    "date_time_et = date_time_utc.astimezone(eastern)"
   ]
  },
  {
   "cell_type": "code",
   "execution_count": 95,
   "id": "9d5662da",
   "metadata": {},
   "outputs": [
    {
     "data": {
      "text/plain": [
       "datetime.datetime(2024, 7, 29, 18, 3, 49, tzinfo=<DstTzInfo 'US/Eastern' EDT-1 day, 20:00:00 DST>)"
      ]
     },
     "execution_count": 95,
     "metadata": {},
     "output_type": "execute_result"
    }
   ],
   "source": [
    "date_time_et"
   ]
  },
  {
   "cell_type": "code",
   "execution_count": 116,
   "id": "f0cd5753",
   "metadata": {},
   "outputs": [],
   "source": [
    "date_llm = date_time_et.strftime(\"%Y-%m-%d\")"
   ]
  },
  {
   "cell_type": "code",
   "execution_count": 71,
   "id": "db61e606",
   "metadata": {},
   "outputs": [],
   "source": [
    "url = news_articles['articles'][0]['url']"
   ]
  },
  {
   "cell_type": "code",
   "execution_count": 51,
   "id": "70b88a0b",
   "metadata": {},
   "outputs": [],
   "source": [
    "# Fetch the HTML content\n",
    "response = requests.get(url)\n",
    "html_content = response.content"
   ]
  },
  {
   "cell_type": "code",
   "execution_count": 53,
   "id": "fb587be2",
   "metadata": {},
   "outputs": [],
   "source": [
    "# Parse the HTML content using BeautifulSoup\n",
    "soup = BeautifulSoup(html_content, 'html.parser')"
   ]
  },
  {
   "cell_type": "code",
   "execution_count": 67,
   "id": "091fa033",
   "metadata": {},
   "outputs": [],
   "source": [
    "title = soup.title.string"
   ]
  },
  {
   "cell_type": "code",
   "execution_count": 57,
   "id": "e93a9fc2",
   "metadata": {},
   "outputs": [],
   "source": [
    "paragraphs = soup.find_all('p')"
   ]
  },
  {
   "cell_type": "code",
   "execution_count": 68,
   "id": "a152e0d6",
   "metadata": {},
   "outputs": [],
   "source": [
    "content=''\n",
    "for p in paragraphs:\n",
    "    content += p.get_text()\n",
    "    content += '\\n '"
   ]
  },
  {
   "cell_type": "code",
   "execution_count": 72,
   "id": "ec98b581",
   "metadata": {},
   "outputs": [],
   "source": [
    "import yfinance as yf\n",
    "import pandas as pd\n",
    "import numpy as np\n",
    "from langchain.prompts import PromptTemplate\n",
    "from langchain.chains import LLMChain\n",
    "from langchain_community.llms import Ollama"
   ]
  },
  {
   "cell_type": "code",
   "execution_count": 97,
   "id": "a697b534",
   "metadata": {},
   "outputs": [],
   "source": [
    "# Create a prompt template\n",
    "summary_template = \"\"\"\n",
    "You are an AI assistant specialized in investment advisory. \n",
    "Summarize the news artcile with respect to the NVDA stock and interpret the investment sentiment:\n",
    "\n",
    "Title: {title}\n",
    "\n",
    "Content: {content}\n",
    "\n",
    "Summary:\"\"\""
   ]
  },
  {
   "cell_type": "code",
   "execution_count": 98,
   "id": "da5c32a3",
   "metadata": {},
   "outputs": [],
   "source": [
    "summary_prompt = PromptTemplate(template=prompt_template, input_variables=[\"title\", \"content\"])"
   ]
  },
  {
   "cell_type": "code",
   "execution_count": 99,
   "id": "f286997c",
   "metadata": {},
   "outputs": [],
   "source": [
    "llm = Ollama(\n",
    "    model=\"llama3\"\n",
    ")"
   ]
  },
  {
   "cell_type": "code",
   "execution_count": 100,
   "id": "fecabc52",
   "metadata": {},
   "outputs": [],
   "source": [
    "# Create the chain\n",
    "chain = LLMChain(llm=llm, prompt=summary_prompt)"
   ]
  },
  {
   "cell_type": "code",
   "execution_count": 112,
   "id": "82e4fb65",
   "metadata": {},
   "outputs": [],
   "source": [
    "start = time.time()\n",
    "response2 = chain.run(title=title, content=content)\n",
    "end = time.time()"
   ]
  },
  {
   "cell_type": "code",
   "execution_count": 113,
   "id": "46242294",
   "metadata": {},
   "outputs": [
    {
     "data": {
      "text/plain": [
       "5.963320970535278"
      ]
     },
     "execution_count": 113,
     "metadata": {},
     "output_type": "execute_result"
    }
   ],
   "source": [
    "end-start"
   ]
  },
  {
   "cell_type": "code",
   "execution_count": 106,
   "id": "e4ae0762",
   "metadata": {},
   "outputs": [
    {
     "data": {
      "text/plain": [
       "\"The article discusses Apple's decision to use Google's cloud infrastructure, specifically its tensor processing unit (TPU) chips, to train two AI models for its forthcoming suite of AI tools and features. This is notable because Nvidia produces the most sought-after AI processors and dominates the market with around 80% market share.\\n\\nApple used a total of 10,240 TPUv4 and TPUv5p chips to build its AI models, which operate on iPhones and other devices. The company did not disclose any use of Nvidia's chips in the research paper.\\n\\nThe article also provides some background information on Apple's AI efforts, including its recent developer conference where it unveiled new AI features, such as integrating OpenAI's ChatGPT technology into its software.\\n\\nAs for the investment sentiment, NVDA (Nvidia) shares are expected to be impacted by this news. Since Nvidia dominates the market with around 80% market share and is not being used by Apple in this instance, investors may view this as a negative development for NVDA's stock price.\""
      ]
     },
     "execution_count": 106,
     "metadata": {},
     "output_type": "execute_result"
    }
   ],
   "source": [
    "response"
   ]
  },
  {
   "cell_type": "code",
   "execution_count": 118,
   "id": "8da2933a",
   "metadata": {},
   "outputs": [],
   "source": [
    "sector_info='''Nvidia operates in the semiconductor industry, specializing in the design and manufacture of graphics processing units (GPUs) for gaming, professional visualization, data centers, AI, and automotive applications. \n",
    "Known for its GeForce brand, Nvidia leads the gaming market while also providing high-performance solutions for AI and machine learning in data centers. \n",
    "Additionally, Nvidia's DRIVE platform supports autonomous vehicle technology, and its Jetson platform powers edge computing and IoT devices. \n",
    "The company's innovations position it at the forefront of emerging trends in AI, data processing, and autonomous driving, driving significant growth and industry influence.\n",
    "'''"
   ]
  },
  {
   "cell_type": "code",
   "execution_count": 128,
   "id": "b174ad9f",
   "metadata": {},
   "outputs": [],
   "source": [
    "start_date='2024-01-01'"
   ]
  },
  {
   "cell_type": "code",
   "execution_count": 129,
   "id": "e439234b",
   "metadata": {},
   "outputs": [
    {
     "name": "stdout",
     "output_type": "stream",
     "text": [
      "[*********************100%%**********************]  1 of 1 completed\n"
     ]
    }
   ],
   "source": [
    "data = yf.download('NVDA', start=start_date)"
   ]
  },
  {
   "cell_type": "code",
   "execution_count": 138,
   "id": "ad738e21",
   "metadata": {},
   "outputs": [
    {
     "data": {
      "text/plain": [
       "'2024-07-29'"
      ]
     },
     "execution_count": 138,
     "metadata": {},
     "output_type": "execute_result"
    }
   ],
   "source": [
    "date_llm"
   ]
  },
  {
   "cell_type": "code",
   "execution_count": 130,
   "id": "8c8c8b93",
   "metadata": {},
   "outputs": [],
   "source": [
    "data.reset_index(inplace=True)"
   ]
  },
  {
   "cell_type": "code",
   "execution_count": 132,
   "id": "106e6327",
   "metadata": {},
   "outputs": [],
   "source": [
    "dt_pandas = pd.Timestamp(date_llm)"
   ]
  },
  {
   "cell_type": "code",
   "execution_count": 139,
   "id": "1460f8c0",
   "metadata": {},
   "outputs": [
    {
     "data": {
      "text/html": [
       "<div>\n",
       "<style scoped>\n",
       "    .dataframe tbody tr th:only-of-type {\n",
       "        vertical-align: middle;\n",
       "    }\n",
       "\n",
       "    .dataframe tbody tr th {\n",
       "        vertical-align: top;\n",
       "    }\n",
       "\n",
       "    .dataframe thead th {\n",
       "        text-align: right;\n",
       "    }\n",
       "</style>\n",
       "<table border=\"1\" class=\"dataframe\">\n",
       "  <thead>\n",
       "    <tr style=\"text-align: right;\">\n",
       "      <th></th>\n",
       "      <th>Date</th>\n",
       "      <th>Open</th>\n",
       "      <th>High</th>\n",
       "      <th>Low</th>\n",
       "      <th>Close</th>\n",
       "      <th>Adj Close</th>\n",
       "      <th>Volume</th>\n",
       "    </tr>\n",
       "  </thead>\n",
       "  <tbody>\n",
       "    <tr>\n",
       "      <th>144</th>\n",
       "      <td>2024-07-30</td>\n",
       "      <td>111.519997</td>\n",
       "      <td>111.989998</td>\n",
       "      <td>102.540001</td>\n",
       "      <td>103.730003</td>\n",
       "      <td>103.730003</td>\n",
       "      <td>486833300</td>\n",
       "    </tr>\n",
       "    <tr>\n",
       "      <th>145</th>\n",
       "      <td>2024-07-31</td>\n",
       "      <td>112.900002</td>\n",
       "      <td>118.339996</td>\n",
       "      <td>110.879997</td>\n",
       "      <td>117.019997</td>\n",
       "      <td>117.019997</td>\n",
       "      <td>457637422</td>\n",
       "    </tr>\n",
       "  </tbody>\n",
       "</table>\n",
       "</div>"
      ],
      "text/plain": [
       "          Date        Open        High         Low       Close   Adj Close  \\\n",
       "144 2024-07-30  111.519997  111.989998  102.540001  103.730003  103.730003   \n",
       "145 2024-07-31  112.900002  118.339996  110.879997  117.019997  117.019997   \n",
       "\n",
       "        Volume  \n",
       "144  486833300  \n",
       "145  457637422  "
      ]
     },
     "execution_count": 139,
     "metadata": {},
     "output_type": "execute_result"
    }
   ],
   "source": [
    "data[data.Date>dt_pandas]"
   ]
  },
  {
   "cell_type": "code",
   "execution_count": 142,
   "id": "5c362ace",
   "metadata": {},
   "outputs": [],
   "source": [
    "table = data[data.Date<=dt_pandas].tail()"
   ]
  },
  {
   "cell_type": "code",
   "execution_count": 144,
   "id": "2c71a42d",
   "metadata": {},
   "outputs": [],
   "source": [
    "table_string = table.to_string(index=False)"
   ]
  },
  {
   "cell_type": "code",
   "execution_count": 196,
   "id": "a8e613af",
   "metadata": {},
   "outputs": [],
   "source": [
    "# Create a prompt template\n",
    "trade_template = \"\"\"\n",
    "As an expert trading agent who has sufficient trading experience of trading Nvdia Stock.\n",
    "Trading Sector information: {sector_info}\n",
    "Date: {date_llm}\n",
    "Last 5 day stock info: {table_string}\n",
    "News summary: {response}\n",
    "Given the above information can you provide me with an investment decision? Please also consider the momentum of the stock price.\n",
    "Using the following template:\n",
    "Decision:(Buy/Sell/Hold)\n",
    "Reasoing:\n",
    "Answer:\n",
    "\"\"\""
   ]
  },
  {
   "cell_type": "code",
   "execution_count": 198,
   "id": "eb3ffc17",
   "metadata": {},
   "outputs": [],
   "source": [
    "trade_template = \"\"\"\n",
    "As an expert trading agent with extensive experience in trading Nvidia stock, analyze the following information:\n",
    "\n",
    "Sector: {sector_info}\n",
    "Date: {date_llm}\n",
    "Recent Stock Performance:\n",
    "{table_string}\n",
    "\n",
    "Recent News Summary:\n",
    "{response}\n",
    "\n",
    "Based on the provided data, please offer an investment decision. Consider factors such as:\n",
    "1. Current market trends in the technology sector\n",
    "2. Nvidia's recent stock price momentum\n",
    "3. Potential impact of the news on stock performance\n",
    "\n",
    "Provide your analysis using the following format:\n",
    "\n",
    "Decision: (Buy/Sell/Hold)\n",
    "Reasoning: (Explain your decision in 3-5 concise points)\n",
    "Confidence Level: (Low/Medium/High)\n",
    "\n",
    "Answer:\n",
    "\"\"\""
   ]
  },
  {
   "cell_type": "code",
   "execution_count": 199,
   "id": "eb979307",
   "metadata": {},
   "outputs": [],
   "source": [
    "trade_prompt = PromptTemplate(template=trade_template, input_variables=[\"sector_info\", \"date_llm\", \"table_string\", \n",
    "                                                                       \"response\"])"
   ]
  },
  {
   "cell_type": "code",
   "execution_count": 200,
   "id": "a652ae25",
   "metadata": {},
   "outputs": [],
   "source": [
    "# Create the chain\n",
    "chain = LLMChain(llm=llm, prompt=trade_prompt)"
   ]
  },
  {
   "cell_type": "code",
   "execution_count": 201,
   "id": "45b63147",
   "metadata": {},
   "outputs": [],
   "source": [
    "start = time.time()\n",
    "trade = chain.run(sector_info=sector_info, date_llm=date_llm, table_string=table_string, response=response)\n",
    "end = time.time()"
   ]
  },
  {
   "cell_type": "code",
   "execution_count": 202,
   "id": "b2c37274",
   "metadata": {},
   "outputs": [
    {
     "data": {
      "text/plain": [
       "12.785616874694824"
      ]
     },
     "execution_count": 202,
     "metadata": {},
     "output_type": "execute_result"
    }
   ],
   "source": [
    "end-start"
   ]
  },
  {
   "cell_type": "code",
   "execution_count": 203,
   "id": "c0560283",
   "metadata": {},
   "outputs": [
    {
     "name": "stdout",
     "output_type": "stream",
     "text": [
      "Decision: Sell\n",
      "Reasoning:\n",
      "\n",
      "1. Nvidia's recent stock price momentum is downward, with the stock closing lower on July 24th and 25th, indicating a loss of investor confidence.\n",
      "2. The news about Apple using Google's TPU chips instead of Nvidia's AI processors could be perceived as negative for Nvidia's market share and future growth prospects, potentially leading to further downward pressure on the stock price.\n",
      "3. The technology sector is currently experiencing significant disruptions and changes, with many companies shifting their focus towards cloud-based solutions and artificial intelligence (AI). This trend may continue to benefit Google and other companies that are well-positioned in these areas.\n",
      "\n",
      "Confidence Level: Medium\n",
      "\n",
      "I have a medium level of confidence in this decision due to the uncertainty surrounding the impact of Apple's decision on Nvidia's market share. However, based on the recent stock price trends and the potential negative implications of this news, I believe it is prudent to take a cautious approach and consider selling or reducing exposure to Nvidia's stock.\n"
     ]
    }
   ],
   "source": [
    "print(trade)"
   ]
  },
  {
   "cell_type": "code",
   "execution_count": 154,
   "id": "39622a03",
   "metadata": {},
   "outputs": [
    {
     "name": "stdout",
     "output_type": "stream",
     "text": [
      "As an expert trading agent with sufficient trading experience of trading Nvidia (NVDA) stock, I would recommend selling NVDA shares based on the current market situation.\n",
      "\n",
      "Reasons:\n",
      "\n",
      "1. **Industry influence and growth**: Nvidia is a leading player in the semiconductor industry, specializing in GPUs for gaming, AI, data centers, and automotive applications. The company's innovations position it at the forefront of emerging trends in AI, data processing, and autonomous driving, driving significant growth and industry influence.\n",
      "2. **Last 5-day stock info**: The recent stock price movement indicates a downward trend, with prices declining by around 6-7% over the past five trading days. This could be a sign that investors are becoming increasingly cautious about Nvidia's future prospects.\n",
      "3. **News summary**: Apple's decision to use Google's cloud infrastructure for AI model training is a negative development for NVDA, as it reduces the likelihood of Apple using Nvidia's chips in this instance. With around 80% market share, this news could impact investor sentiment and lead to further price declines.\n",
      "4. **Momentum**: The stock price momentum has been trending downward over the past few days, indicating that the selling pressure may continue.\n",
      "\n",
      "Trading Decision:\n",
      "\n",
      "**Sell NVDA shares**\n",
      "\n",
      "Given the above factors, I believe it's reasonable to expect further price declines in the short term. Selling NVDA shares now could help you lock in profits or limit potential losses if the stock continues to trend downward.\n",
      "\n",
      "Please note that this decision is based on my analysis and may not be suitable for all investors. It's essential to consider your individual risk tolerance, investment goals, and overall market conditions before making a trading decision.\n"
     ]
    }
   ],
   "source": [
    "print(trade)"
   ]
  },
  {
   "cell_type": "code",
   "execution_count": 156,
   "id": "51ea3cb4",
   "metadata": {},
   "outputs": [],
   "source": [
    "data['daily_trade_return'] = data['Adj Close'] - data['Open']"
   ]
  },
  {
   "cell_type": "code",
   "execution_count": 157,
   "id": "49af73bc",
   "metadata": {},
   "outputs": [
    {
     "data": {
      "text/html": [
       "<div>\n",
       "<style scoped>\n",
       "    .dataframe tbody tr th:only-of-type {\n",
       "        vertical-align: middle;\n",
       "    }\n",
       "\n",
       "    .dataframe tbody tr th {\n",
       "        vertical-align: top;\n",
       "    }\n",
       "\n",
       "    .dataframe thead th {\n",
       "        text-align: right;\n",
       "    }\n",
       "</style>\n",
       "<table border=\"1\" class=\"dataframe\">\n",
       "  <thead>\n",
       "    <tr style=\"text-align: right;\">\n",
       "      <th></th>\n",
       "      <th>Date</th>\n",
       "      <th>Open</th>\n",
       "      <th>High</th>\n",
       "      <th>Low</th>\n",
       "      <th>Close</th>\n",
       "      <th>Adj Close</th>\n",
       "      <th>Volume</th>\n",
       "      <th>daily_trade_return</th>\n",
       "    </tr>\n",
       "  </thead>\n",
       "  <tbody>\n",
       "    <tr>\n",
       "      <th>144</th>\n",
       "      <td>2024-07-30</td>\n",
       "      <td>111.519997</td>\n",
       "      <td>111.989998</td>\n",
       "      <td>102.540001</td>\n",
       "      <td>103.730003</td>\n",
       "      <td>103.730003</td>\n",
       "      <td>486833300</td>\n",
       "      <td>-7.789993</td>\n",
       "    </tr>\n",
       "    <tr>\n",
       "      <th>145</th>\n",
       "      <td>2024-07-31</td>\n",
       "      <td>112.900002</td>\n",
       "      <td>118.339996</td>\n",
       "      <td>110.879997</td>\n",
       "      <td>117.019997</td>\n",
       "      <td>117.019997</td>\n",
       "      <td>457637422</td>\n",
       "      <td>4.119995</td>\n",
       "    </tr>\n",
       "  </tbody>\n",
       "</table>\n",
       "</div>"
      ],
      "text/plain": [
       "          Date        Open        High         Low       Close   Adj Close  \\\n",
       "144 2024-07-30  111.519997  111.989998  102.540001  103.730003  103.730003   \n",
       "145 2024-07-31  112.900002  118.339996  110.879997  117.019997  117.019997   \n",
       "\n",
       "        Volume  daily_trade_return  \n",
       "144  486833300           -7.789993  \n",
       "145  457637422            4.119995  "
      ]
     },
     "execution_count": 157,
     "metadata": {},
     "output_type": "execute_result"
    }
   ],
   "source": [
    "data[data.Date>dt_pandas]"
   ]
  },
  {
   "cell_type": "code",
   "execution_count": 14,
   "id": "548c094c",
   "metadata": {},
   "outputs": [],
   "source": [
    "# Calculate daily returns\n",
    "data['Return'] = data['Adj Close'].pct_change()"
   ]
  },
  {
   "cell_type": "code",
   "execution_count": 24,
   "id": "2ff03bf1",
   "metadata": {},
   "outputs": [],
   "source": [
    "# Calculate log returns\n",
    "data['Log Return'] = np.log(data['Adj Close'] / data['Adj Close'].shift(1))"
   ]
  },
  {
   "cell_type": "code",
   "execution_count": 15,
   "id": "a8276660",
   "metadata": {},
   "outputs": [],
   "source": [
    "# Calculate variance of the returns\n",
    "variance = data['Return'].var()"
   ]
  },
  {
   "cell_type": "code",
   "execution_count": 25,
   "id": "1da1c6f9",
   "metadata": {},
   "outputs": [],
   "source": [
    "mean_return = data['Return'].mean()\n",
    "mean_log_return = data['Log Return'].mean()\n",
    "std_dev = data['Return'].std()"
   ]
  },
  {
   "cell_type": "code",
   "execution_count": 26,
   "id": "649a6ac0",
   "metadata": {},
   "outputs": [
    {
     "data": {
      "text/plain": [
       "0.005875982800714965"
      ]
     },
     "execution_count": 26,
     "metadata": {},
     "output_type": "execute_result"
    }
   ],
   "source": [
    "mean_log_return"
   ]
  },
  {
   "cell_type": "code",
   "execution_count": 19,
   "id": "7b17b600",
   "metadata": {},
   "outputs": [
    {
     "data": {
      "text/plain": [
       "0.0064310391363098605"
      ]
     },
     "execution_count": 19,
     "metadata": {},
     "output_type": "execute_result"
    }
   ],
   "source": [
    "mean_return"
   ]
  },
  {
   "cell_type": "code",
   "execution_count": 20,
   "id": "2b9deafc",
   "metadata": {},
   "outputs": [
    {
     "data": {
      "text/plain": [
       "0.03315865600421478"
      ]
     },
     "execution_count": 20,
     "metadata": {},
     "output_type": "execute_result"
    }
   ],
   "source": [
    "std_dev"
   ]
  },
  {
   "cell_type": "code",
   "execution_count": 3,
   "id": "f504c08e",
   "metadata": {},
   "outputs": [],
   "source": [
    "# Create a prompt template\n",
    "prompt_template = \"\"\"\n",
    "You are an AI assistant specialized in dietary guidelines. \n",
    "Use the following pieces of context to answer the question. \n",
    "If you don't know the answer, just say that you don't know, don't try to make up an answer.\n",
    "\n",
    "Context:\n",
    "{context}\n",
    "\n",
    "Question: {question}\n",
    "\n",
    "Answer:\"\"\""
   ]
  },
  {
   "cell_type": "code",
   "execution_count": 4,
   "id": "681f2815",
   "metadata": {},
   "outputs": [],
   "source": [
    "prompt = PromptTemplate(template=prompt_template, input_variables=[\"context\", \"question\"])\n",
    "\n",
    "llm = Ollama(\n",
    "    model=\"llama3\"\n",
    ")"
   ]
  },
  {
   "cell_type": "code",
   "execution_count": 5,
   "id": "bb8f2f36",
   "metadata": {},
   "outputs": [],
   "source": [
    "llm = Ollama(\n",
    "    model=\"llama3\"\n",
    ")"
   ]
  },
  {
   "cell_type": "code",
   "execution_count": 6,
   "id": "a5fb00a4",
   "metadata": {},
   "outputs": [],
   "source": [
    "# Create the chain\n",
    "chain = LLMChain(llm=llm, prompt=prompt)"
   ]
  },
  {
   "cell_type": "code",
   "execution_count": null,
   "id": "32d44559",
   "metadata": {},
   "outputs": [],
   "source": [
    "def answer_question(query):\n",
    "    # Search for relevant context\n",
    "    search_results = search_faiss(query)\n",
    "    \n",
    "    # Combine the content from the search results\n",
    "    context = \"\\n\\n\".join([result['content'] for result in search_results])\n",
    "\n",
    "    # Run the chain\n",
    "    response = chain.run(context=context, question=query)\n",
    "    \n",
    "    return response"
   ]
  }
 ],
 "metadata": {
  "kernelspec": {
   "display_name": "Python 3 (ipykernel)",
   "language": "python",
   "name": "python3"
  },
  "language_info": {
   "codemirror_mode": {
    "name": "ipython",
    "version": 3
   },
   "file_extension": ".py",
   "mimetype": "text/x-python",
   "name": "python",
   "nbconvert_exporter": "python",
   "pygments_lexer": "ipython3",
   "version": "3.11.5"
  }
 },
 "nbformat": 4,
 "nbformat_minor": 5
}
