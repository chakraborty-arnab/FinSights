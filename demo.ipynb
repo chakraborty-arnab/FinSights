{
 "cells": [
  {
   "cell_type": "code",
   "execution_count": 1,
   "id": "37667e6d",
   "metadata": {},
   "outputs": [],
   "source": [
    "from utils.news import get_news, get_url_content\n",
    "from utils.price import get_price\n",
    "from utils.llms import summarize, get_trading_recommendation\n",
    "import pandas as pd"
   ]
  },
  {
   "cell_type": "code",
   "execution_count": 2,
   "id": "d280655f",
   "metadata": {},
   "outputs": [],
   "source": [
    "stock = \"Nvidia\"\n",
    "symbol = \"NVDA\"  \n",
    "date = \"2024-05-02\"\n",
    "news_duration = 1\n",
    "price_duration = 7"
   ]
  },
  {
   "cell_type": "code",
   "execution_count": 3,
   "id": "af7ca07e",
   "metadata": {},
   "outputs": [],
   "source": [
    "# df = get_news(symbol, date, news_duration)"
   ]
  },
  {
   "cell_type": "code",
   "execution_count": 4,
   "id": "6dec2c46",
   "metadata": {},
   "outputs": [],
   "source": [
    "# df.to_csv('data/sample_news.csv',index=False)"
   ]
  },
  {
   "cell_type": "code",
   "execution_count": 5,
   "id": "4219bd18",
   "metadata": {},
   "outputs": [],
   "source": [
    "df = pd.read_csv('data/sample_news.csv')"
   ]
  },
  {
   "cell_type": "code",
   "execution_count": 24,
   "id": "194f01cb",
   "metadata": {},
   "outputs": [
    {
     "data": {
      "text/plain": [
       "array([\"Nvidia's Roller Coaster Ride Through Early 2024 Sets The Stage For A Potential Market Shakeup As Investors Eye The Critical First Quarter Earnings Report\",\n",
       "       'Super Micro Updates Fiscal Guidance As Nvidia Shifts, 4 Analysts Provide Perspectives',\n",
       "       \"Intel Gains Favor With Redditors Over Nvidia, AMD As 'High Uncertainty, Low Risk' Stock Play\",\n",
       "       \"Nvidia Backed AI Start-Up CoreWeave Lands New $1.1B Funding - What's On The Cards?\",\n",
       "       \"10 Information Technology Stocks With Whale Alerts In Today's Session\",\n",
       "       \"US Stocks Mixed Ahead Of Fed Meeting, Chipmakers Tumble After AMD Earnings, Bitcoin Sinks: What's Driving Markets Wednesday?\",\n",
       "       \"AMD Falls On Q1 Earnings, Q2 Guidance: Why '1,000% Growth' From AI Stock Is Not Enough For Investors\",\n",
       "       'After Nvidia and Apple, Alibaba Chases Vietnam: New Data Center to Boost Control and Meet Local Laws',\n",
       "       'Super Micro Folly, Stock Market Direction Depends On Which Powell Shows Up – Objective Or Political',\n",
       "       'Market Clubhouse Morning Memo - May 1st, 2024 (Trade Strategy For SPY, QQQ, AAPL, MSFT, NVDA, GOOGL, META, And TSLA)',\n",
       "       'Top 10 Trending Stocks On WallStreetBets As Of May 1, 2024 (Via Swaggy Stocks)',\n",
       "       \"Wall Street Set To Open Lower After AMD Earnings Disappoint As Traders Look To Fed's Powell For Relief: Why This Analyst Sees Incoming Summer Rally\",\n",
       "       \"Nvidia's AI Leadership Challenged As AMD Claims Superior Inference Performance With MI300 Chip: 'Partners Are Seeing Very Strong Performance'\"],\n",
       "      dtype=object)"
      ]
     },
     "execution_count": 24,
     "metadata": {},
     "output_type": "execute_result"
    }
   ],
   "source": [
    "df.headline.values"
   ]
  },
  {
   "cell_type": "code",
   "execution_count": 7,
   "id": "59ddd838",
   "metadata": {},
   "outputs": [],
   "source": [
    "url = df['url'].values[0]"
   ]
  },
  {
   "cell_type": "code",
   "execution_count": 8,
   "id": "82e84318",
   "metadata": {},
   "outputs": [],
   "source": [
    "topic, content = get_url_content(url)"
   ]
  },
  {
   "cell_type": "code",
   "execution_count": 25,
   "id": "3fa04a93",
   "metadata": {},
   "outputs": [
    {
     "data": {
      "text/plain": [
       "\"NVIDIA Corp NVDA continues to display itself as a standout company, particularly for its solid performance in early 2024. Kicking off the year with significant momentum, Nvidia's stock experienced a 96% bull rally that continued through to March, nearly reaching the $1000 milestone.\\n However, the climb halted at $974, facing resistance that put a halt to its upward move, leading to a 13% dip in value. Currently, Nvidia is in a consolidation phase, with its stock price oscillating between $756 and $974.\\n The market looks optimistic, but the company is walking a fine line. If it drops below $756, it might indicate a downturn, but breaking past $974 could signal further growth.\\n With May 22 on the horizon, focus is on Nvidia once again and its anticipated first-quarter earnings report. Analysts are forecasting earnings of $5.18 per share, a figure that puts pressure on Nvidia to continue its positive earnings streak from the last four quarters.\\n A positive earnings report could push the stock to surpass its previous highs. Currently, Nvidia finds itself in a slight downturn, down 2%, while still in consolidation.\\n \\n For investors, the message is clear. Patience and vigilance in monitoring key support and resistance levels are crucial. This upcoming earnings report holds the potential to kickstart Nvidia's next bullish phase.\\n After the closing bell on Tuesday, April 30, the stock closed at $864.02, trading down by 1.50%.\\n This article is from an unpaid external contributor. It does not represent Benzinga's reporting and has not been edited for content or accuracy.\\n © 2024 Benzinga.com. Benzinga does not provide investment advice. All rights reserved.\\n Trade confidently with insights and alerts from analyst ratings, free reports and breaking news that affects the stocks you care about.\\n \""
      ]
     },
     "execution_count": 25,
     "metadata": {},
     "output_type": "execute_result"
    }
   ],
   "source": [
    "content"
   ]
  },
  {
   "cell_type": "code",
   "execution_count": 9,
   "id": "ccbf1c0e",
   "metadata": {},
   "outputs": [
    {
     "name": "stderr",
     "output_type": "stream",
     "text": [
      "/Users/arnabchakraborty/anaconda3/lib/python3.11/site-packages/langchain_core/_api/deprecation.py:139: LangChainDeprecationWarning: The class `LLMChain` was deprecated in LangChain 0.1.17 and will be removed in 1.0. Use RunnableSequence, e.g., `prompt | llm` instead.\n",
      "  warn_deprecated(\n",
      "/Users/arnabchakraborty/anaconda3/lib/python3.11/site-packages/langchain_core/_api/deprecation.py:139: LangChainDeprecationWarning: The method `Chain.run` was deprecated in langchain 0.1.0 and will be removed in 0.3.0. Use invoke instead.\n",
      "  warn_deprecated(\n"
     ]
    }
   ],
   "source": [
    "summary = summarize(stock, topic, content)"
   ]
  },
  {
   "cell_type": "code",
   "execution_count": 10,
   "id": "027ae856",
   "metadata": {},
   "outputs": [
    {
     "data": {
      "text/plain": [
       "\"Here is a summary of the article specific to Nvidia (NVDA):\\n\\nNvidia's stock experienced a significant 96% increase in value through early 2024, reaching nearly $1000. However, the upward momentum halted at $974, and the stock has since consolidated between $756 and $974. The market looks optimistic, but the company is walking a fine line. Analysts are forecasting earnings of $5.18 per share for the first-quarter earnings report on May 22, which could impact the stock's direction.\\n\\nInterpretation:\\n\\nThe investment sentiment for Nvidia (NVDA) is cautious optimism. While the company has shown significant growth in early 2024, its recent consolidation phase suggests that investors are waiting to see how the upcoming earnings report will affect the stock's trajectory. If the report meets or exceeds expectations, it could signal further growth and potentially push the stock above $974. Conversely, a disappointing report could lead to a downturn below $756. Overall, patience and vigilance in monitoring key support and resistance levels are crucial for investors.\""
      ]
     },
     "execution_count": 10,
     "metadata": {},
     "output_type": "execute_result"
    }
   ],
   "source": [
    "summary"
   ]
  },
  {
   "cell_type": "code",
   "execution_count": 11,
   "id": "8aa2ffcd",
   "metadata": {},
   "outputs": [
    {
     "name": "stdout",
     "output_type": "stream",
     "text": [
      "[*********************100%%**********************]  1 of 1 completed\n"
     ]
    }
   ],
   "source": [
    "price = get_price(symbol, date, price_duration)"
   ]
  },
  {
   "cell_type": "code",
   "execution_count": 12,
   "id": "10534da1",
   "metadata": {},
   "outputs": [
    {
     "data": {
      "text/html": [
       "<div>\n",
       "<style scoped>\n",
       "    .dataframe tbody tr th:only-of-type {\n",
       "        vertical-align: middle;\n",
       "    }\n",
       "\n",
       "    .dataframe tbody tr th {\n",
       "        vertical-align: top;\n",
       "    }\n",
       "\n",
       "    .dataframe thead th {\n",
       "        text-align: right;\n",
       "    }\n",
       "</style>\n",
       "<table border=\"1\" class=\"dataframe\">\n",
       "  <thead>\n",
       "    <tr style=\"text-align: right;\">\n",
       "      <th></th>\n",
       "      <th>Open</th>\n",
       "      <th>High</th>\n",
       "      <th>Low</th>\n",
       "      <th>Close</th>\n",
       "      <th>Adj Close</th>\n",
       "      <th>Volume</th>\n",
       "    </tr>\n",
       "    <tr>\n",
       "      <th>Date</th>\n",
       "      <th></th>\n",
       "      <th></th>\n",
       "      <th></th>\n",
       "      <th></th>\n",
       "      <th></th>\n",
       "      <th></th>\n",
       "    </tr>\n",
       "  </thead>\n",
       "  <tbody>\n",
       "    <tr>\n",
       "      <th>2024-04-25</th>\n",
       "      <td>78.867996</td>\n",
       "      <td>83.322998</td>\n",
       "      <td>78.223000</td>\n",
       "      <td>82.632004</td>\n",
       "      <td>82.625214</td>\n",
       "      <td>424641000</td>\n",
       "    </tr>\n",
       "    <tr>\n",
       "      <th>2024-04-26</th>\n",
       "      <td>83.818001</td>\n",
       "      <td>88.331001</td>\n",
       "      <td>83.387001</td>\n",
       "      <td>87.735001</td>\n",
       "      <td>87.727791</td>\n",
       "      <td>551011000</td>\n",
       "    </tr>\n",
       "    <tr>\n",
       "      <th>2024-04-29</th>\n",
       "      <td>87.595001</td>\n",
       "      <td>87.991997</td>\n",
       "      <td>85.265999</td>\n",
       "      <td>87.757004</td>\n",
       "      <td>87.749794</td>\n",
       "      <td>388971000</td>\n",
       "    </tr>\n",
       "    <tr>\n",
       "      <th>2024-04-30</th>\n",
       "      <td>87.239998</td>\n",
       "      <td>88.819000</td>\n",
       "      <td>86.300003</td>\n",
       "      <td>86.402000</td>\n",
       "      <td>86.394905</td>\n",
       "      <td>363709000</td>\n",
       "    </tr>\n",
       "    <tr>\n",
       "      <th>2024-05-01</th>\n",
       "      <td>85.077003</td>\n",
       "      <td>86.000000</td>\n",
       "      <td>81.254997</td>\n",
       "      <td>83.041000</td>\n",
       "      <td>83.034180</td>\n",
       "      <td>559863000</td>\n",
       "    </tr>\n",
       "  </tbody>\n",
       "</table>\n",
       "</div>"
      ],
      "text/plain": [
       "                 Open       High        Low      Close  Adj Close     Volume\n",
       "Date                                                                        \n",
       "2024-04-25  78.867996  83.322998  78.223000  82.632004  82.625214  424641000\n",
       "2024-04-26  83.818001  88.331001  83.387001  87.735001  87.727791  551011000\n",
       "2024-04-29  87.595001  87.991997  85.265999  87.757004  87.749794  388971000\n",
       "2024-04-30  87.239998  88.819000  86.300003  86.402000  86.394905  363709000\n",
       "2024-05-01  85.077003  86.000000  81.254997  83.041000  83.034180  559863000"
      ]
     },
     "execution_count": 12,
     "metadata": {},
     "output_type": "execute_result"
    }
   ],
   "source": [
    "price"
   ]
  },
  {
   "cell_type": "code",
   "execution_count": 13,
   "id": "2e6cd808",
   "metadata": {},
   "outputs": [],
   "source": [
    "table_string = price.to_string(index=False)"
   ]
  },
  {
   "cell_type": "code",
   "execution_count": 14,
   "id": "cf7bd68b",
   "metadata": {},
   "outputs": [],
   "source": [
    "sector_info='''Nvidia operates in the semiconductor industry, specializing in the design and manufacture of graphics processing units (GPUs) for gaming, professional visualization, data centers, AI, and automotive applications. \n",
    "Known for its GeForce brand, Nvidia leads the gaming market while also providing high-performance solutions for AI and machine learning in data centers. \n",
    "Additionally, Nvidia's DRIVE platform supports autonomous vehicle technology, and its Jetson platform powers edge computing and IoT devices. \n",
    "The company's innovations position it at the forefront of emerging trends in AI, data processing, and autonomous driving, driving significant growth and industry influence.\n",
    "'''"
   ]
  },
  {
   "cell_type": "code",
   "execution_count": 15,
   "id": "5a4fe210",
   "metadata": {},
   "outputs": [],
   "source": [
    "trade_recommendation = get_trading_recommendation(sector_info, date, table_string, summary)"
   ]
  },
  {
   "cell_type": "code",
   "execution_count": 17,
   "id": "39633f4a",
   "metadata": {},
   "outputs": [
    {
     "name": "stdout",
     "output_type": "stream",
     "text": [
      "Decision: Hold\n",
      "Reasoning:\n",
      "\n",
      "1. Nvidia's recent stock price momentum has been consolidating between $756 and $974, indicating a cautious market sentiment.\n",
      "2. The company is expected to release its first-quarter earnings report on May 22, which could impact the stock's direction. A strong report could lead to further growth, while a disappointing one might cause a downturn.\n",
      "3. Considering the current market trends in the technology sector, it's essential to prioritize caution and monitor key support and resistance levels before making an investment decision.\n",
      "\n",
      "Confidence Level: Medium\n",
      "\n",
      "I'm not convinced that Nvidia's stock is ready for a significant upward or downward move at this time. The consolidation phase suggests that investors are waiting for more information, such as the earnings report, before making a decisive move. As a result, I recommend holding onto current positions and monitoring the market closely to take advantage of potential opportunities.\n"
     ]
    }
   ],
   "source": [
    "print(trade_recommendation)"
   ]
  },
  {
   "cell_type": "code",
   "execution_count": null,
   "id": "e0a58863",
   "metadata": {},
   "outputs": [],
   "source": []
  }
 ],
 "metadata": {
  "kernelspec": {
   "display_name": "Python 3 (ipykernel)",
   "language": "python",
   "name": "python3"
  },
  "language_info": {
   "codemirror_mode": {
    "name": "ipython",
    "version": 3
   },
   "file_extension": ".py",
   "mimetype": "text/x-python",
   "name": "python",
   "nbconvert_exporter": "python",
   "pygments_lexer": "ipython3",
   "version": "3.11.5"
  }
 },
 "nbformat": 4,
 "nbformat_minor": 5
}
